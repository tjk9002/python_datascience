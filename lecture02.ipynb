{
  "nbformat": 4,
  "nbformat_minor": 0,
  "metadata": {
    "hide_input": false,
    "kernelspec": {
      "display_name": "Python 3",
      "language": "python",
      "name": "python3"
    },
    "language_info": {
      "codemirror_mode": {
        "name": "ipython",
        "version": 3
      },
      "file_extension": ".py",
      "mimetype": "text/x-python",
      "name": "python",
      "nbconvert_exporter": "python",
      "pygments_lexer": "ipython3",
      "version": "3.6.8"
    },
    "toc": {
      "base_numbering": 1,
      "nav_menu": {},
      "number_sections": true,
      "sideBar": true,
      "skip_h1_title": false,
      "title_cell": "Table of Contents",
      "title_sidebar": "Contents",
      "toc_cell": false,
      "toc_position": {
        "height": "840px",
        "left": "0px",
        "right": "1111px",
        "top": "113px",
        "width": "253px"
      },
      "toc_section_display": "block",
      "toc_window_display": true
    },
    "varInspector": {
      "cols": {
        "lenName": 16,
        "lenType": 16,
        "lenVar": 40
      },
      "kernels_config": {
        "python": {
          "delete_cmd_postfix": "",
          "delete_cmd_prefix": "del ",
          "library": "var_list.py",
          "varRefreshCmd": "print(var_dic_list())"
        },
        "r": {
          "delete_cmd_postfix": ") ",
          "delete_cmd_prefix": "rm(",
          "library": "var_list.r",
          "varRefreshCmd": "cat(var_dic_list()) "
        }
      },
      "types_to_exclude": [
        "module",
        "function",
        "builtin_function_or_method",
        "instance",
        "_Feature"
      ],
      "window_display": false
    },
    "colab": {
      "name": "lecture02.ipynb",
      "provenance": [],
      "include_colab_link": true
    }
  },
  "cells": [
    {
      "cell_type": "markdown",
      "metadata": {
        "id": "view-in-github",
        "colab_type": "text"
      },
      "source": [
        "<a href=\"https://colab.research.google.com/github/sanglee/python_datascience/blob/master/lecture02.ipynb\" target=\"_parent\"><img src=\"https://colab.research.google.com/assets/colab-badge.svg\" alt=\"Open In Colab\"/></a>"
      ]
    },
    {
      "cell_type": "markdown",
      "metadata": {
        "id": "DZ7ONswgVeR_",
        "colab_type": "text"
      },
      "source": [
        "## Python for Data Science\n",
        "\n",
        "@author: Sangkyun Lee  (sangkyun@korea.ac.kr)\n",
        "\n",
        "___Python Basics: Control Logic, Function___"
      ]
    },
    {
      "cell_type": "markdown",
      "metadata": {
        "id": "afcgiMeKVeSA",
        "colab_type": "text"
      },
      "source": [
        "<hr>"
      ]
    },
    {
      "cell_type": "markdown",
      "metadata": {
        "id": "iuqRynHaVeSC",
        "colab_type": "text"
      },
      "source": [
        "### Control\n"
      ]
    },
    {
      "cell_type": "markdown",
      "metadata": {
        "id": "HPYygByQVeSD",
        "colab_type": "text"
      },
      "source": [
        "#### Comparison operators\n",
        "\n",
        "- Larger (or equal): `>` (`>=`)\n",
        "- Smaller (or equal): `<` (`<=`)\n",
        "- Equal to: `==` (__Notie here that there are double equal signs__)\n",
        "- Not equal to: `!=`\n",
        "\n",
        "#### Logical operators\n",
        "- and\n",
        "- or\n",
        "- not"
      ]
    },
    {
      "cell_type": "code",
      "metadata": {
        "id": "utB9EI4cVeSE",
        "colab_type": "code",
        "colab": {},
        "outputId": "03ed7b7a-fb22-4b96-b122-46ff18ad7e89"
      },
      "source": [
        "3 == 5"
      ],
      "execution_count": 0,
      "outputs": [
        {
          "output_type": "execute_result",
          "data": {
            "text/plain": [
              "False"
            ]
          },
          "metadata": {
            "tags": []
          },
          "execution_count": 1
        }
      ]
    },
    {
      "cell_type": "code",
      "metadata": {
        "id": "AtDUcSgdVeSN",
        "colab_type": "code",
        "colab": {},
        "outputId": "a1a1fe0d-792f-404a-fde0-d036d17499fb"
      },
      "source": [
        "72 >= 2"
      ],
      "execution_count": 0,
      "outputs": [
        {
          "output_type": "execute_result",
          "data": {
            "text/plain": [
              "True"
            ]
          },
          "metadata": {
            "tags": []
          },
          "execution_count": 2
        }
      ]
    },
    {
      "cell_type": "code",
      "metadata": {
        "id": "9OucJEK7VeSS",
        "colab_type": "code",
        "colab": {},
        "outputId": "f0628e43-cfa9-4d8c-d950-f5fe0cb422d5"
      },
      "source": [
        "store_name = 'ABC'\n",
        "store_name == 'abc'"
      ],
      "execution_count": 0,
      "outputs": [
        {
          "output_type": "execute_result",
          "data": {
            "text/plain": [
              "False"
            ]
          },
          "metadata": {
            "tags": []
          },
          "execution_count": 4
        }
      ]
    },
    {
      "cell_type": "code",
      "metadata": {
        "id": "VjbIBZYDVeSW",
        "colab_type": "code",
        "colab": {},
        "outputId": "cc9a30f7-a661-45ff-90b0-1d72d05d38a5"
      },
      "source": [
        "# Internally, FPs are in base-2 representation: some base-10 FP numbers cannot be represented exactly\n",
        "print(2.2 * 3.0)\n",
        "2.2 * 3.0 == 6.6  "
      ],
      "execution_count": 0,
      "outputs": [
        {
          "output_type": "stream",
          "text": [
            "6.6000000000000005\n"
          ],
          "name": "stdout"
        },
        {
          "output_type": "execute_result",
          "data": {
            "text/plain": [
              "False"
            ]
          },
          "metadata": {
            "tags": []
          },
          "execution_count": 8
        }
      ]
    },
    {
      "cell_type": "code",
      "metadata": {
        "id": "ylKSM9ZeVeSb",
        "colab_type": "code",
        "colab": {},
        "outputId": "86628fa6-8431-494b-cd60-93a5733c0967"
      },
      "source": [
        "a = 3\n",
        "(a > 0) and (a ** 2 < 10) # square of a"
      ],
      "execution_count": 0,
      "outputs": [
        {
          "output_type": "execute_result",
          "data": {
            "text/plain": [
              "True"
            ]
          },
          "metadata": {
            "tags": []
          },
          "execution_count": 81
        }
      ]
    },
    {
      "cell_type": "markdown",
      "metadata": {
        "id": "n5kgKFWIVeSf",
        "colab_type": "text"
      },
      "source": [
        "#### Control Statement (1):  `if-elif-else`"
      ]
    },
    {
      "cell_type": "markdown",
      "metadata": {
        "id": "Tde2NygPVeSg",
        "colab_type": "text"
      },
      "source": [
        "#### `if`"
      ]
    },
    {
      "cell_type": "code",
      "metadata": {
        "id": "RgQ6txSrVeSh",
        "colab_type": "code",
        "colab": {},
        "outputId": "7d5e2e7a-3258-4fc4-9d80-81a2ddbf9398"
      },
      "source": [
        "val = -1\n",
        "\n",
        "if val > -2:\n",
        "    print('val is above -2')"
      ],
      "execution_count": 0,
      "outputs": [
        {
          "output_type": "stream",
          "text": [
            "val is above -2\n"
          ],
          "name": "stdout"
        }
      ]
    },
    {
      "cell_type": "markdown",
      "metadata": {
        "id": "I6xHGzkOVeSl",
        "colab_type": "text"
      },
      "source": [
        "`if-else`"
      ]
    },
    {
      "cell_type": "code",
      "metadata": {
        "id": "jL3YSOyTVeSl",
        "colab_type": "code",
        "colab": {},
        "outputId": "7da387fd-a161-4ce5-d4f4-9dcd1c6450db"
      },
      "source": [
        "if val > -2:\n",
        "    print('val is > -2')\n",
        "else:\n",
        "    print('val is <= -2')"
      ],
      "execution_count": 0,
      "outputs": [
        {
          "output_type": "stream",
          "text": [
            "val is > -2\n"
          ],
          "name": "stdout"
        }
      ]
    },
    {
      "cell_type": "markdown",
      "metadata": {
        "id": "rTheJOQmVeSo",
        "colab_type": "text"
      },
      "source": [
        "`if-elif-else`"
      ]
    },
    {
      "cell_type": "code",
      "metadata": {
        "id": "sDLQFC9IVeSp",
        "colab_type": "code",
        "colab": {},
        "outputId": "d873681f-6e48-48e0-b7ff-154dfbd509a4"
      },
      "source": [
        "if val == 0:\n",
        "    print(\"val is 0\")\n",
        "elif val < 0:\n",
        "    print(\"val(%f) is neg\" % val)\n",
        "else:\n",
        "    print(\"val(%f) is pos\" % val)"
      ],
      "execution_count": 0,
      "outputs": [
        {
          "output_type": "stream",
          "text": [
            "val(-1.000000) is neg\n"
          ],
          "name": "stdout"
        }
      ]
    },
    {
      "cell_type": "markdown",
      "metadata": {
        "id": "uru5aoaSVeSt",
        "colab_type": "text"
      },
      "source": [
        "Ex. substring match with `in`"
      ]
    },
    {
      "cell_type": "code",
      "metadata": {
        "id": "ojajtej9VeSt",
        "colab_type": "code",
        "colab": {},
        "outputId": "47564c69-91af-4144-efd0-f9108b4c7eb3"
      },
      "source": [
        "store_name = 'Walmart'\n",
        "if 'almar' in store_name:\n",
        "    print(\"The store is likely to be Walmart.\")\n",
        "else:\n",
        "    print(\"The store is NOT Walmart\")"
      ],
      "execution_count": 0,
      "outputs": [
        {
          "output_type": "stream",
          "text": [
            "The store is likely to be Walmart.\n"
          ],
          "name": "stdout"
        }
      ]
    },
    {
      "cell_type": "markdown",
      "metadata": {
        "id": "xAf2ynWKVeSx",
        "colab_type": "text"
      },
      "source": [
        "Ex. exact string match with `==`"
      ]
    },
    {
      "cell_type": "code",
      "metadata": {
        "id": "mWBFLA8gVeSx",
        "colab_type": "code",
        "colab": {},
        "outputId": "3cdcc53a-f5d5-42ff-96fc-ad2309cb871f"
      },
      "source": [
        "store_name = 'Walmart'\n",
        "if 'Wal' == store_name:\n",
        "    print(\"The store is Wal\")\n",
        "else:\n",
        "    print(\"The store is NOT Wal\")"
      ],
      "execution_count": 0,
      "outputs": [
        {
          "output_type": "stream",
          "text": [
            "The store is NOT Wal\n"
          ],
          "name": "stdout"
        }
      ]
    },
    {
      "cell_type": "markdown",
      "metadata": {
        "id": "p2fPAdk5VeS1",
        "colab_type": "text"
      },
      "source": [
        "---"
      ]
    },
    {
      "cell_type": "markdown",
      "metadata": {
        "id": "PtQF45GWVeS1",
        "colab_type": "text"
      },
      "source": [
        "#### Control Statement (2):  `for` loop"
      ]
    },
    {
      "cell_type": "markdown",
      "metadata": {
        "id": "BbZqp6zpVeS2",
        "colab_type": "text"
      },
      "source": [
        "Iterate (= run the body) through a sequence"
      ]
    },
    {
      "cell_type": "code",
      "metadata": {
        "id": "Ymio-X-FVeS3",
        "colab_type": "code",
        "colab": {},
        "outputId": "5dbba498-e81a-49b6-ca4c-cd561215a5f8"
      },
      "source": [
        "seq = [1,2,3,4,5]\n",
        "\n",
        "for i in seq:\n",
        "    print(i)"
      ],
      "execution_count": 0,
      "outputs": [
        {
          "output_type": "stream",
          "text": [
            "1\n",
            "2\n",
            "3\n",
            "4\n",
            "5\n"
          ],
          "name": "stdout"
        }
      ]
    },
    {
      "cell_type": "code",
      "metadata": {
        "id": "6P3zWgSdVeS6",
        "colab_type": "code",
        "colab": {},
        "outputId": "2d44d128-faa3-4bb4-90c2-b7980f8907f3"
      },
      "source": [
        "store_name = 'Walmart'\n",
        "\n",
        "for c in store_name:\n",
        "    print(c)"
      ],
      "execution_count": 0,
      "outputs": [
        {
          "output_type": "stream",
          "text": [
            "W\n",
            "a\n",
            "l\n",
            "m\n",
            "a\n",
            "r\n",
            "t\n"
          ],
          "name": "stdout"
        }
      ]
    },
    {
      "cell_type": "markdown",
      "metadata": {
        "id": "eD1IuT8IVeS-",
        "colab_type": "text"
      },
      "source": [
        "Useful function: `range()` creates an interger sequence:\n",
        "- `range(0,1000)`, `range(1000)` : 0 ~ 999"
      ]
    },
    {
      "cell_type": "code",
      "metadata": {
        "id": "0uVGe8C7VeS-",
        "colab_type": "code",
        "colab": {},
        "outputId": "eab485ec-65b4-404d-9801-0df34174e53c"
      },
      "source": [
        "store_name = 'Walmart'\n",
        "for i in range(len(store_name)):\n",
        "    print(store_name[i])"
      ],
      "execution_count": 0,
      "outputs": [
        {
          "output_type": "stream",
          "text": [
            "W\n",
            "a\n",
            "l\n",
            "m\n",
            "a\n",
            "r\n",
            "t\n"
          ],
          "name": "stdout"
        }
      ]
    },
    {
      "cell_type": "code",
      "metadata": {
        "id": "K3jwAPVKVeTH",
        "colab_type": "code",
        "colab": {},
        "outputId": "3d9641b0-f413-4644-b335-0d958a6c6fa5"
      },
      "source": [
        "x = range(1,6)\n",
        "y = [1,2,3,4,5]\n",
        "\n",
        "print(\"range == list ? \" + str(x == y))\n",
        "\n",
        "print(\"type of range: \" + str(type(x)))\n",
        "print(\"type of list: \" + str(type(y)))\n",
        "\n",
        "print(\"populate range to list: list(x) =\", str(list(x)))\n",
        "print(\"list(x) == y ? \" + str(list(x) == y))"
      ],
      "execution_count": 0,
      "outputs": [
        {
          "output_type": "stream",
          "text": [
            "range == list ? False\n",
            "type of range: <class 'range'>\n",
            "type of list: <class 'list'>\n",
            "populate range to list: list(x) = [1, 2, 3, 4, 5]\n",
            "list(x) == y ? True\n"
          ],
          "name": "stdout"
        }
      ]
    },
    {
      "cell_type": "markdown",
      "metadata": {
        "id": "PTJ11LkOVeTJ",
        "colab_type": "text"
      },
      "source": [
        "---\n",
        "#### Control Statement (3):  `while` loop"
      ]
    },
    {
      "cell_type": "markdown",
      "metadata": {
        "id": "Ui3Nf8m5VeTK",
        "colab_type": "text"
      },
      "source": [
        "Iterate while the given condition is true"
      ]
    },
    {
      "cell_type": "code",
      "metadata": {
        "id": "unmPOkNUVeTK",
        "colab_type": "code",
        "colab": {},
        "outputId": "a633fe81-4189-4f88-bd0e-15cee392543b"
      },
      "source": [
        "x = 1\n",
        "\n",
        "while x < 5:\n",
        "    print(x)\n",
        "    x += 1  # same as x = x+1"
      ],
      "execution_count": 0,
      "outputs": [
        {
          "output_type": "stream",
          "text": [
            "1\n",
            "2\n",
            "3\n",
            "4\n"
          ],
          "name": "stdout"
        }
      ]
    },
    {
      "cell_type": "markdown",
      "metadata": {
        "id": "4JPvRcF4VeTN",
        "colab_type": "text"
      },
      "source": [
        "---\n",
        "#### Loop control: `break` and `continue`"
      ]
    },
    {
      "cell_type": "code",
      "metadata": {
        "id": "BNokrSmbVeTO",
        "colab_type": "code",
        "colab": {},
        "outputId": "dae7466f-11de-4b2e-9078-8e64623d023f"
      },
      "source": [
        "seq = 'ATCGGAAATT'\n",
        "\n",
        "for i in range(len(seq)):\n",
        "    #print(seq[i:i+2])\n",
        "    if (seq[i:(i+2)] == \"GG\"):\n",
        "        print(\"Found GG at starting at index %d\" % i)\n",
        "        break\n",
        "        "
      ],
      "execution_count": 0,
      "outputs": [
        {
          "output_type": "stream",
          "text": [
            "Found GG at starting at index 3\n"
          ],
          "name": "stdout"
        }
      ]
    },
    {
      "cell_type": "code",
      "metadata": {
        "id": "jdr3agmjVeTQ",
        "colab_type": "code",
        "colab": {},
        "outputId": "9f21f6fb-e323-4806-fe9d-09511e476ce4"
      },
      "source": [
        "seq = 'ATCGGAAATT'\n",
        "\n",
        "for i in range(len(seq)):\n",
        "    c = seq[i]\n",
        "    if(c == 'G' or c == 'A'):\n",
        "        continue\n",
        "    else:\n",
        "        print(c)"
      ],
      "execution_count": 0,
      "outputs": [
        {
          "output_type": "stream",
          "text": [
            "T\n",
            "C\n",
            "T\n",
            "T\n"
          ],
          "name": "stdout"
        }
      ]
    },
    {
      "cell_type": "markdown",
      "metadata": {
        "id": "Xbbq2AboVeTT",
        "colab_type": "text"
      },
      "source": [
        "### Functions"
      ]
    },
    {
      "cell_type": "markdown",
      "metadata": {
        "id": "KMn9585FVeTT",
        "colab_type": "text"
      },
      "source": [
        "Function is a block of codes with input arguments (and, optionally, return values) for specific purposes.\n",
        "\n",
        "User-defined function:\n",
        "```python\n",
        "def func_name(arg1, arg2, arg3):\n",
        "    #####################\n",
        "    # Do something here #\n",
        "    #####################\n",
        "    return val   # optional\n",
        "```\n",
        "\n",
        "Usage:\n",
        "```python\n",
        "output = func_name(arg1, arg2, arg3)\n",
        "```"
      ]
    },
    {
      "cell_type": "code",
      "metadata": {
        "id": "fc9KD4gYVeTU",
        "colab_type": "code",
        "colab": {},
        "outputId": "08b62fee-c11d-45c3-caca-dbb3b378bf47"
      },
      "source": [
        "def count_base(seq, base):\n",
        "    i = 0 # counter\n",
        "    for c in seq:\n",
        "        if c == base:\n",
        "            i += 1\n",
        "    return i\n",
        "\n",
        "dna_seq = 'ATGCGGACCTAT'\n",
        "base = 'C'\n",
        "n = count_base(dna_seq, base)\n",
        "\n",
        "# printf-style formatting\n",
        "print('%s appears %d times in %s' % (base, n, dna_seq))\n",
        "\n",
        "# or (new) format string syntax\n",
        "print('{BASE} appears {N} times in {DNA}'.format(BASE=base, N=n, DNA=dna_seq))"
      ],
      "execution_count": 0,
      "outputs": [
        {
          "output_type": "stream",
          "text": [
            "C appears 3 times in ATGCGGACCTAT\n",
            "C appears 3 times in ATGCGGACCTAT\n"
          ],
          "name": "stdout"
        }
      ]
    },
    {
      "cell_type": "markdown",
      "metadata": {
        "id": "LNx6XvOCVeTW",
        "colab_type": "text"
      },
      "source": [
        "---\n",
        "#### Python built-in functions"
      ]
    },
    {
      "cell_type": "code",
      "metadata": {
        "ExecuteTime": {
          "end_time": "2018-10-25T17:48:45.482719Z",
          "start_time": "2018-10-25T17:48:45.476899Z"
        },
        "id": "Q5yUJfcJVeTW",
        "colab_type": "code",
        "colab": {},
        "outputId": "f3efaf30-bc31-4cfd-ad4e-7c1bd8266a39"
      },
      "source": [
        "abs(-3.5)"
      ],
      "execution_count": 0,
      "outputs": [
        {
          "output_type": "execute_result",
          "data": {
            "text/plain": [
              "3.5"
            ]
          },
          "metadata": {
            "tags": []
          },
          "execution_count": 87
        }
      ]
    },
    {
      "cell_type": "code",
      "metadata": {
        "ExecuteTime": {
          "end_time": "2018-10-25T17:20:29.734990Z",
          "start_time": "2018-10-25T17:20:29.729907Z"
        },
        "id": "qTQ6ifz6VeTY",
        "colab_type": "code",
        "colab": {},
        "outputId": "7d7b57d5-00d6-4895-e49a-65241cf27bb0"
      },
      "source": [
        "list(range(5, 0, -1))"
      ],
      "execution_count": 0,
      "outputs": [
        {
          "output_type": "execute_result",
          "data": {
            "text/plain": [
              "[5, 4, 3, 2, 1]"
            ]
          },
          "metadata": {
            "tags": []
          },
          "execution_count": 88
        }
      ]
    },
    {
      "cell_type": "code",
      "metadata": {
        "id": "XShZfdrPVeTd",
        "colab_type": "code",
        "colab": {}
      },
      "source": [
        "x = [3, 5, -1, 2]\n",
        "sorted?"
      ],
      "execution_count": 0,
      "outputs": []
    },
    {
      "cell_type": "code",
      "metadata": {
        "id": "MrSvw-PnVeTf",
        "colab_type": "code",
        "colab": {},
        "outputId": "7f90b263-c68f-4a1f-dc57-f2bcca85cf09"
      },
      "source": [
        "sorted(x, reverse=True)"
      ],
      "execution_count": 0,
      "outputs": [
        {
          "output_type": "execute_result",
          "data": {
            "text/plain": [
              "[5, 3, 2, -1]"
            ]
          },
          "metadata": {
            "tags": []
          },
          "execution_count": 90
        }
      ]
    },
    {
      "cell_type": "markdown",
      "metadata": {
        "id": "i1XdbuvfVeTi",
        "colab_type": "text"
      },
      "source": [
        "---\n",
        "#### Library functions"
      ]
    },
    {
      "cell_type": "code",
      "metadata": {
        "id": "HaKz1lcCVeTj",
        "colab_type": "code",
        "colab": {},
        "outputId": "1f38531c-6888-4303-a5ce-b6dbb78d70b8"
      },
      "source": [
        "exp(-3)"
      ],
      "execution_count": 0,
      "outputs": [
        {
          "output_type": "error",
          "ename": "NameError",
          "evalue": "name 'exp' is not defined",
          "traceback": [
            "\u001b[0;31m---------------------------------------------------------------------------\u001b[0m",
            "\u001b[0;31mNameError\u001b[0m                                 Traceback (most recent call last)",
            "\u001b[0;32m<ipython-input-91-e74978a7b358>\u001b[0m in \u001b[0;36m<module>\u001b[0;34m()\u001b[0m\n\u001b[0;32m----> 1\u001b[0;31m \u001b[0mexp\u001b[0m\u001b[0;34m(\u001b[0m\u001b[0;34m-\u001b[0m\u001b[0;36m3\u001b[0m\u001b[0;34m)\u001b[0m\u001b[0;34m\u001b[0m\u001b[0;34m\u001b[0m\u001b[0m\n\u001b[0m",
            "\u001b[0;31mNameError\u001b[0m: name 'exp' is not defined"
          ]
        }
      ]
    },
    {
      "cell_type": "code",
      "metadata": {
        "id": "qWMpGq0LVeTl",
        "colab_type": "code",
        "colab": {},
        "outputId": "59cdb7a9-4113-490d-c080-ddc807dffb77"
      },
      "source": [
        "import math\n",
        "\n",
        "math.exp(-3)"
      ],
      "execution_count": 0,
      "outputs": [
        {
          "output_type": "execute_result",
          "data": {
            "text/plain": [
              "0.049787068367863944"
            ]
          },
          "metadata": {
            "tags": []
          },
          "execution_count": 92
        }
      ]
    },
    {
      "cell_type": "code",
      "metadata": {
        "id": "taENbGL3VeTn",
        "colab_type": "code",
        "colab": {},
        "outputId": "74832cb2-9252-40a9-f4f1-f2a3ef0be70c"
      },
      "source": [
        "from math import exp\n",
        "\n",
        "exp(-3)"
      ],
      "execution_count": 0,
      "outputs": [
        {
          "output_type": "execute_result",
          "data": {
            "text/plain": [
              "0.049787068367863944"
            ]
          },
          "metadata": {
            "tags": []
          },
          "execution_count": 93
        }
      ]
    },
    {
      "cell_type": "code",
      "metadata": {
        "id": "vXvPB90WVeTp",
        "colab_type": "code",
        "colab": {},
        "outputId": "4b9fc0b6-94d1-4c45-d3ca-d1f7d4d25394"
      },
      "source": [
        "from math import *\n",
        "\n",
        "log10(10)"
      ],
      "execution_count": 0,
      "outputs": [
        {
          "output_type": "execute_result",
          "data": {
            "text/plain": [
              "1.0"
            ]
          },
          "metadata": {
            "tags": []
          },
          "execution_count": 99
        }
      ]
    },
    {
      "cell_type": "markdown",
      "metadata": {
        "id": "h2pFMNJ5VeTs",
        "colab_type": "text"
      },
      "source": [
        "Ex. generate a random DNA string"
      ]
    },
    {
      "cell_type": "code",
      "metadata": {
        "id": "XtIL361FVeTs",
        "colab_type": "code",
        "colab": {},
        "outputId": "5071c2d6-fc48-474c-b307-69204110f076"
      },
      "source": [
        "import random\n",
        "\n",
        "alphabet = list('ATGC')\n",
        "N = 100\n",
        "\n",
        "dna = [random.choice(alphabet) for i in range(N)]   # list comprehension\n",
        "print(''.join(dna))"
      ],
      "execution_count": 0,
      "outputs": [
        {
          "output_type": "stream",
          "text": [
            "AGTTTCGCATATGGGTCGCTTAATGGATTACGTATCAGAGATATTCGTTTGATCGAATTATACGCCGGTGCTCTATTCTCCGACAAGTGGCTTAAAGTTA\n"
          ],
          "name": "stdout"
        }
      ]
    },
    {
      "cell_type": "markdown",
      "metadata": {
        "id": "ObS3F0DuVeTu",
        "colab_type": "text"
      },
      "source": [
        "---\n",
        "#### External libraries"
      ]
    },
    {
      "cell_type": "markdown",
      "metadata": {
        "ExecuteTime": {
          "end_time": "2017-10-21T16:45:05.266743Z",
          "start_time": "2017-10-21T16:45:05.260803Z"
        },
        "id": "dt8ZHzhkVeTu",
        "colab_type": "text"
      },
      "source": [
        "Many useful packages are provided by developers: __numpy__, __scipy__, __matplotlib__, __pandas__, __tensorflow__, etc."
      ]
    },
    {
      "cell_type": "code",
      "metadata": {
        "ExecuteTime": {
          "end_time": "2018-10-25T18:13:42.776598Z",
          "start_time": "2018-10-25T18:13:42.770831Z"
        },
        "id": "ltbz8JfnVeTv",
        "colab_type": "code",
        "colab": {}
      },
      "source": [
        "import numpy as np # use a short name instead"
      ],
      "execution_count": 0,
      "outputs": []
    },
    {
      "cell_type": "code",
      "metadata": {
        "ExecuteTime": {
          "end_time": "2018-10-25T18:15:33.255909Z",
          "start_time": "2018-10-25T18:15:33.250898Z"
        },
        "id": "rZQmRf7vVeTw",
        "colab_type": "code",
        "colab": {},
        "outputId": "1d9e7e98-a292-46e8-c7e6-c1d6ce992c71"
      },
      "source": [
        "x = np.zeros([1,4])\n",
        "print(x)"
      ],
      "execution_count": 0,
      "outputs": [
        {
          "output_type": "stream",
          "text": [
            "[[0. 0. 0. 0.]]\n"
          ],
          "name": "stdout"
        }
      ]
    },
    {
      "cell_type": "code",
      "metadata": {
        "id": "peBSLGQ-VeTy",
        "colab_type": "code",
        "colab": {},
        "outputId": "1fbfa907-45ed-4d40-8bd0-c65af853519a"
      },
      "source": [
        "print(x.shape)"
      ],
      "execution_count": 0,
      "outputs": [
        {
          "output_type": "stream",
          "text": [
            "(1, 4)\n"
          ],
          "name": "stdout"
        }
      ]
    },
    {
      "cell_type": "markdown",
      "metadata": {
        "id": "gXus9I9aVeT1",
        "colab_type": "text"
      },
      "source": [
        "Ex. count DNA alphabets"
      ]
    },
    {
      "cell_type": "code",
      "metadata": {
        "id": "KsGr6uJ8VeT2",
        "colab_type": "code",
        "colab": {}
      },
      "source": [
        "alphabet = list('ATGC')\n",
        "N = 100\n",
        "dna_str = [random.choice(alphabet) for i in range(N)]"
      ],
      "execution_count": 0,
      "outputs": []
    },
    {
      "cell_type": "code",
      "metadata": {
        "id": "s5JZ3z86VeT2",
        "colab_type": "code",
        "colab": {},
        "outputId": "2b38a3d4-a9d8-40f9-d281-833e4474e7e4"
      },
      "source": [
        "dna_str"
      ],
      "execution_count": 0,
      "outputs": [
        {
          "output_type": "execute_result",
          "data": {
            "text/plain": [
              "['G', 'A', 'C', 'T', 'T', 'T', 'A', 'T', 'T', 'C', 'T', 'C', 'A', 'A', 'T']"
            ]
          },
          "metadata": {
            "tags": []
          },
          "execution_count": 162
        }
      ]
    },
    {
      "cell_type": "code",
      "metadata": {
        "id": "snqgc4XzVeT5",
        "colab_type": "code",
        "colab": {},
        "outputId": "349c0736-7287-4d6a-882a-1dedd36e95a0"
      },
      "source": [
        "alpha_cnt = np.zeros([1, len(alphabet)])\n",
        "print(alpha_cnt.shape)"
      ],
      "execution_count": 0,
      "outputs": [
        {
          "output_type": "stream",
          "text": [
            "(1, 4)\n"
          ],
          "name": "stdout"
        }
      ]
    },
    {
      "cell_type": "code",
      "metadata": {
        "id": "uMgtXsNxVeT7",
        "colab_type": "code",
        "colab": {}
      },
      "source": [
        "for i in range(len(alphabet)):\n",
        "    alpha_cnt[0,i] = count_base(dna_str, alphabet[i])"
      ],
      "execution_count": 0,
      "outputs": []
    },
    {
      "cell_type": "code",
      "metadata": {
        "id": "DZGag4AcVeT8",
        "colab_type": "code",
        "colab": {},
        "outputId": "43556b62-014a-4aa9-dcbd-df977ad67902"
      },
      "source": [
        "print(alphabet)\n",
        "print(alpha_cnt)"
      ],
      "execution_count": 0,
      "outputs": [
        {
          "output_type": "stream",
          "text": [
            "['A', 'T', 'G', 'C']\n",
            "[[24. 30. 27. 19.]]\n"
          ],
          "name": "stdout"
        }
      ]
    },
    {
      "cell_type": "markdown",
      "metadata": {
        "id": "YOOaPi28VeT-",
        "colab_type": "text"
      },
      "source": [
        "---\n",
        "## Summary"
      ]
    },
    {
      "cell_type": "markdown",
      "metadata": {
        "id": "ThJEhyqpVeT-",
        "colab_type": "text"
      },
      "source": [
        "- Operators\n",
        "    - Comparison ops: >, >=, <, <=, ==, !=\n",
        "    - Logical ops: and, or, not\n",
        "- Control Statements\n",
        "    - if-elif-else, for, while\n",
        "    - break, continue\n",
        "- Functions\n",
        "    - User-defined\n",
        "    - Built-in functions\n",
        "    - Built-in Library functions\n",
        "    - External Library functions"
      ]
    },
    {
      "cell_type": "code",
      "metadata": {
        "id": "_4JuTkIbVeT_",
        "colab_type": "code",
        "colab": {}
      },
      "source": [
        ""
      ],
      "execution_count": 0,
      "outputs": []
    }
  ]
}