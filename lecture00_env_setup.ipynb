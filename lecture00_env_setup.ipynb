{
  "nbformat": 4,
  "nbformat_minor": 0,
  "metadata": {
    "kernelspec": {
      "display_name": "Python 3",
      "language": "python",
      "name": "python3"
    },
    "language_info": {
      "codemirror_mode": {
        "name": "ipython",
        "version": 3
      },
      "file_extension": ".py",
      "mimetype": "text/x-python",
      "name": "python",
      "nbconvert_exporter": "python",
      "pygments_lexer": "ipython3",
      "version": "3.7.4"
    },
    "toc": {
      "base_numbering": 1,
      "nav_menu": {},
      "number_sections": true,
      "sideBar": true,
      "skip_h1_title": false,
      "title_cell": "Table of Contents",
      "title_sidebar": "Contents",
      "toc_cell": false,
      "toc_position": {},
      "toc_section_display": "block",
      "toc_window_display": true
    },
    "varInspector": {
      "cols": {
        "lenName": 16,
        "lenType": 16,
        "lenVar": 40
      },
      "kernels_config": {
        "python": {
          "delete_cmd_postfix": "",
          "delete_cmd_prefix": "del ",
          "library": "var_list.py",
          "varRefreshCmd": "print(var_dic_list())"
        },
        "r": {
          "delete_cmd_postfix": ") ",
          "delete_cmd_prefix": "rm(",
          "library": "var_list.r",
          "varRefreshCmd": "cat(var_dic_list()) "
        }
      },
      "types_to_exclude": [
        "module",
        "function",
        "builtin_function_or_method",
        "instance",
        "_Feature"
      ],
      "window_display": false
    },
    "colab": {
      "name": "lecture00_env_setup.ipynb",
      "provenance": [],
      "include_colab_link": true
    }
  },
  "cells": [
    {
      "cell_type": "markdown",
      "metadata": {
        "id": "view-in-github",
        "colab_type": "text"
      },
      "source": [
        "<a href=\"https://colab.research.google.com/github/sanglee/python_datascience/blob/master/lecture00_env_setup.ipynb\" target=\"_parent\"><img src=\"https://colab.research.google.com/assets/colab-badge.svg\" alt=\"Open In Colab\"/></a>"
      ]
    },
    {
      "cell_type": "markdown",
      "metadata": {
        "id": "l_trdoxBQwkP",
        "colab_type": "text"
      },
      "source": [
        "## Python for Data Science\n",
        "\n",
        "@author: Sangkyun Lee  (sangkyun@korea.ac.kr)\n",
        "\n",
        "___Installation and Environment Setup___"
      ]
    },
    {
      "cell_type": "markdown",
      "metadata": {
        "id": "26XNQDDvQwkP",
        "colab_type": "text"
      },
      "source": [
        "<hr>"
      ]
    },
    {
      "cell_type": "markdown",
      "metadata": {
        "id": "ZKUw-PAaQwkQ",
        "colab_type": "text"
      },
      "source": [
        "#### Python Installation\n",
        "Anaconda (https://www.anaconda.com/products/individual)\n",
        "- Python 3 + useful packages (e.g., jupyter notebook)\n",
        "\n",
        "PyCharm (https://www.jetbrains.com/ko-kr/pycharm/)\n",
        "- A popular development platform\n",
        "\n",
        "Google Colaboratory (https://colab.research.google.com/)\n",
        "- A cloud-based Jupyter notebook"
      ]
    },
    {
      "cell_type": "markdown",
      "metadata": {
        "id": "_ATjuW22QwkR",
        "colab_type": "text"
      },
      "source": [
        "#### Package (library) Installation"
      ]
    },
    {
      "cell_type": "markdown",
      "metadata": {
        "id": "KK__1px6QwkR",
        "colab_type": "text"
      },
      "source": [
        "- **conda**: Anaconda package manager (recommended)\n",
        "\n",
        "  ```\n",
        "  > conda install <package_name>\n",
        "  > conda update <package_name>\n",
        "  > conda update --all\n",
        "  ```\n",
        "\n",
        "- **pip (pip3)**: python package manager\n",
        "\n",
        "  ```\n",
        "  > pip install <package_name>\n",
        "  > pip update <package_name>\n",
        "  \n",
        "  > pip install jupyter ## install Jupyter notebook\n",
        "  ```\n",
        "  No easy way to update all installed packages"
      ]
    },
    {
      "cell_type": "markdown",
      "metadata": {
        "id": "EzNFeSAMQwkS",
        "colab_type": "text"
      },
      "source": [
        "---"
      ]
    },
    {
      "cell_type": "markdown",
      "metadata": {
        "id": "LmI95fE1QwkT",
        "colab_type": "text"
      },
      "source": [
        "#### Run __Jupyter Notebook__"
      ]
    },
    {
      "cell_type": "markdown",
      "metadata": {
        "id": "y8GulvrUQwkT",
        "colab_type": "text"
      },
      "source": [
        "#### Launching Terminal\n",
        "- Mac: use [terminal](https://support.apple.com/guide/terminal/welcome/mac)\n",
        "\n",
        "- Windows: use [Anaconda Prompt](http://docs.continuum.io/anaconda/install/windows/)\n",
        "   - Anaconda: 시작 $\\to$ Anaconda3 (64-bit) $\\to$ Anaconda Prompt (Anaconda3)"
      ]
    },
    {
      "cell_type": "markdown",
      "metadata": {
        "id": "9_bN8R8SQwkU",
        "colab_type": "text"
      },
      "source": [
        "In your terminal, type\n",
        "\n",
        "```\n",
        "> jupyter notebook \n",
        "```"
      ]
    },
    {
      "cell_type": "markdown",
      "metadata": {
        "id": "-ykkwUWhQwkV",
        "colab_type": "text"
      },
      "source": [
        "#### Markdown Language\n",
        "\n",
        "#### Cells\n",
        "  - Markdown cells\n",
        "  - Code cells\n",
        "  \n",
        "#### Cell execution\n",
        "  - Shift+Enter"
      ]
    }
  ]
}