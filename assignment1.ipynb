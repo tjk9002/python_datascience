{
  "nbformat": 4,
  "nbformat_minor": 0,
  "metadata": {
    "kernelspec": {
      "display_name": "Python 3",
      "language": "python",
      "name": "python3"
    },
    "language_info": {
      "codemirror_mode": {
        "name": "ipython",
        "version": 3
      },
      "file_extension": ".py",
      "mimetype": "text/x-python",
      "name": "python",
      "nbconvert_exporter": "python",
      "pygments_lexer": "ipython3",
      "version": "3.6.8"
    },
    "colab": {
      "name": "assignment1.ipynb",
      "provenance": [],
      "include_colab_link": true
    }
  },
  "cells": [
    {
      "cell_type": "markdown",
      "metadata": {
        "id": "view-in-github",
        "colab_type": "text"
      },
      "source": [
        "<a href=\"https://colab.research.google.com/github/sanglee/python_datascience/blob/master/assignment1.ipynb\" target=\"_parent\"><img src=\"https://colab.research.google.com/assets/colab-badge.svg\" alt=\"Open In Colab\"/></a>"
      ]
    },
    {
      "cell_type": "markdown",
      "metadata": {
        "id": "ut-nBtuocGYm",
        "colab_type": "text"
      },
      "source": [
        "## Python for Data Science\n",
        "\n",
        "@author: Sangkyun Lee  (sangkyun@korea.ac.kr)\n",
        "\n",
        "__Assignment 1__"
      ]
    },
    {
      "cell_type": "markdown",
      "metadata": {
        "id": "w9JodVx5cGYn",
        "colab_type": "text"
      },
      "source": [
        "1. Creation of random (fake) COV19 patient data\n",
        "\n",
        "Create a function to generate a fake COV19 record. \n",
        "\n",
        "Usage:\n",
        "\n",
        "``\n",
        "  record = gen_pat()\n",
        "``\n",
        "\n",
        "The output (record) should a dictionary, containing the following key: value pairs: \n",
        "  - ID : five numbers (as a list)\n",
        "  - marker1: P or N\n",
        "  - marker2: P or N\n",
        "  - marker3: P or N\n",
        "\n",
        "All values should be randomly generated."
      ]
    },
    {
      "cell_type": "markdown",
      "metadata": {
        "id": "hFnW1hwscGYn",
        "colab_type": "text"
      },
      "source": [
        "---"
      ]
    },
    {
      "cell_type": "markdown",
      "metadata": {
        "id": "ngEypWpBcGYo",
        "colab_type": "text"
      },
      "source": [
        "2. Decision making\n",
        "\n",
        "Create a list of 100 randomly generated COV19 patients. Show the count of the patients who may have contracted COV19. We decide a patient contracted COV19 if all three markers are positive (P)"
      ]
    }
  ]
}