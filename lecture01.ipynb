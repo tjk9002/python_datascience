{
 "cells": [
  {
   "cell_type": "markdown",
   "metadata": {},
   "source": [
    "## Python for Data Science\n",
    "\n",
    "@author: Sangkyun Lee  (sangkyun@korea.ac.kr)\n",
    "\n",
    "___Python Basics___"
   ]
  },
  {
   "cell_type": "markdown",
   "metadata": {},
   "source": [
    "<hr>"
   ]
  },
  {
   "cell_type": "markdown",
   "metadata": {},
   "source": [
    "### Introduction\n",
    "\n",
    "- Python is a interpreter language (like R, Matlab, ...)\n",
    "  - C/C++, Java are compiled languages\n",
    "- (Very) popular for AI, ML, Bioinformatics, Data Analytics, ...\n",
    "- Easy to learn"
   ]
  },
  {
   "cell_type": "markdown",
   "metadata": {},
   "source": [
    "---"
   ]
  },
  {
   "cell_type": "markdown",
   "metadata": {},
   "source": [
    "### Variables"
   ]
  },
  {
   "cell_type": "markdown",
   "metadata": {},
   "source": [
    "- Variables can be used __without specifying the size or type__ (unlike in Java or C)\n",
    "- Python is case-sensitive. "
   ]
  },
  {
   "cell_type": "markdown",
   "metadata": {},
   "source": [
    "### Assignment"
   ]
  },
  {
   "cell_type": "code",
   "execution_count": 1,
   "metadata": {
    "ExecuteTime": {
     "end_time": "2017-10-04T18:38:12.552928Z",
     "start_time": "2017-10-04T18:38:12.543725Z"
    }
   },
   "outputs": [
    {
     "name": "stdout",
     "output_type": "stream",
     "text": [
      "3\n",
      "3.0\n",
      "Hello!\n",
      "Wonderful!\n"
     ]
    }
   ],
   "source": [
    "x = 3 # integer\n",
    "y = 3. # floating point number\n",
    "z = \"Hello!\" # strings\n",
    "Z = \"Wonderful!\" # another string, stored in a variable big z.\n",
    "print(x)\n",
    "print(y)\n",
    "print(z)\n",
    "print(Z)"
   ]
  },
  {
   "cell_type": "markdown",
   "metadata": {},
   "source": [
    "You can do operations on numeric values as well as strings."
   ]
  },
  {
   "cell_type": "code",
   "execution_count": 2,
   "metadata": {
    "ExecuteTime": {
     "end_time": "2018-10-09T01:38:17.443096Z",
     "start_time": "2018-10-09T01:38:17.439036Z"
    }
   },
   "outputs": [
    {
     "name": "stdout",
     "output_type": "stream",
     "text": [
      "6.0\n"
     ]
    }
   ],
   "source": [
    "sum_ = x + y # int + float = float\n",
    "print(sum_)"
   ]
  },
  {
   "cell_type": "code",
   "execution_count": 3,
   "metadata": {
    "ExecuteTime": {
     "end_time": "2017-10-04T18:38:13.972732Z",
     "start_time": "2017-10-04T18:38:13.967236Z"
    }
   },
   "outputs": [
    {
     "name": "stdout",
     "output_type": "stream",
     "text": [
      "Hello! World!\n"
     ]
    }
   ],
   "source": [
    "v = \"World!\"\n",
    "sum_string = z + \" \" + v # concatenate strings\n",
    "print(sum_string)"
   ]
  },
  {
   "cell_type": "markdown",
   "metadata": {},
   "source": [
    "Print with formating with `%`"
   ]
  },
  {
   "cell_type": "code",
   "execution_count": 4,
   "metadata": {
    "ExecuteTime": {
     "end_time": "2017-10-04T18:38:15.178277Z",
     "start_time": "2017-10-04T18:38:15.173368Z"
    }
   },
   "outputs": [
    {
     "name": "stdout",
     "output_type": "stream",
     "text": [
      "The sum of x and y is 6.00\n"
     ]
    }
   ],
   "source": [
    "print(\"The sum of x and y is %.2f\"%sum_) # %f for floating point number"
   ]
  },
  {
   "cell_type": "code",
   "execution_count": 5,
   "metadata": {
    "ExecuteTime": {
     "end_time": "2017-10-04T18:38:15.472965Z",
     "start_time": "2017-10-04T18:38:15.467306Z"
    }
   },
   "outputs": [
    {
     "name": "stdout",
     "output_type": "stream",
     "text": [
      "The string `sum_string` is 'Hello! World!'\n"
     ]
    }
   ],
   "source": [
    "print(\"The string `sum_string` is '%s'\"%sum_string) # %s for string"
   ]
  },
  {
   "cell_type": "markdown",
   "metadata": {},
   "source": [
    "#### Naming convention"
   ]
  },
  {
   "cell_type": "markdown",
   "metadata": {},
   "source": [
    "There are two commonly used style in programming:\n",
    "\n",
    "1. __camelCase__\n",
    "2. __snake_case__ or __lower_case_with_underscore__\n",
    "\n",
    "Be consistent across one project."
   ]
  },
  {
   "cell_type": "markdown",
   "metadata": {},
   "source": [
    "All variable (function and class) names must start with a letter or underscore (\\_). You can include numbers."
   ]
  },
  {
   "cell_type": "code",
   "execution_count": 6,
   "metadata": {
    "ExecuteTime": {
     "end_time": "2018-10-09T00:16:28.497486Z",
     "start_time": "2018-10-09T00:16:28.491966Z"
    }
   },
   "outputs": [
    {
     "data": {
      "text/plain": [
       "'my string'"
      ]
     },
     "execution_count": 6,
     "metadata": {},
     "output_type": "execute_result"
    }
   ],
   "source": [
    "myStringHere = 'my string'\n",
    "myStringHere"
   ]
  },
  {
   "cell_type": "code",
   "execution_count": 7,
   "metadata": {
    "ExecuteTime": {
     "end_time": "2018-10-09T00:16:28.879472Z",
     "start_time": "2018-10-09T00:16:28.875812Z"
    }
   },
   "outputs": [],
   "source": [
    "x = 3 # valid\n",
    "x_3 = \"xyz\" # valid"
   ]
  },
  {
   "cell_type": "code",
   "execution_count": 8,
   "metadata": {
    "ExecuteTime": {
     "end_time": "2018-10-09T00:16:29.096887Z",
     "start_time": "2018-10-09T00:16:29.091476Z"
    }
   },
   "outputs": [
    {
     "ename": "SyntaxError",
     "evalue": "invalid token (<ipython-input-8-520aa7218b05>, line 1)",
     "output_type": "error",
     "traceback": [
      "\u001b[0;36m  File \u001b[0;32m\"<ipython-input-8-520aa7218b05>\"\u001b[0;36m, line \u001b[0;32m1\u001b[0m\n\u001b[0;31m    3_x = \"456\" # invalid. Numbers cannot be in the first position.\u001b[0m\n\u001b[0m     ^\u001b[0m\n\u001b[0;31mSyntaxError\u001b[0m\u001b[0;31m:\u001b[0m invalid token\n"
     ]
    }
   ],
   "source": [
    "3_x = \"456\" # invalid. Numbers cannot be in the first position."
   ]
  },
  {
   "cell_type": "markdown",
   "metadata": {},
   "source": [
    "### Wildcard variable ( _ )\n",
    "'_' is a valid variable name in Python: usually reserved to store temporary values"
   ]
  },
  {
   "cell_type": "code",
   "execution_count": 9,
   "metadata": {},
   "outputs": [
    {
     "name": "stdout",
     "output_type": "stream",
     "text": [
      "3\n"
     ]
    }
   ],
   "source": [
    "_ = 3\n",
    "print(_)"
   ]
  },
  {
   "cell_type": "markdown",
   "metadata": {},
   "source": [
    "###  Indexing"
   ]
  },
  {
   "cell_type": "markdown",
   "metadata": {},
   "source": [
    "To initialize a string variable, you can use either double or single quotes."
   ]
  },
  {
   "cell_type": "code",
   "execution_count": 10,
   "metadata": {
    "ExecuteTime": {
     "end_time": "2018-10-09T00:16:32.520585Z",
     "start_time": "2018-10-09T00:16:32.516838Z"
    }
   },
   "outputs": [],
   "source": [
    "store_name = \"ABCDE\""
   ]
  },
  {
   "cell_type": "markdown",
   "metadata": {},
   "source": [
    "- A string is a sequence of characters\n",
    "- Indices and bracket notations can be used to access specific ranges of characters."
   ]
  },
  {
   "cell_type": "code",
   "execution_count": 11,
   "metadata": {
    "ExecuteTime": {
     "end_time": "2018-10-09T00:16:32.814921Z",
     "start_time": "2018-10-09T00:16:32.811324Z"
    }
   },
   "outputs": [
    {
     "name": "stdout",
     "output_type": "stream",
     "text": [
      "BCD\n"
     ]
    }
   ],
   "source": [
    "name_13 = store_name[1:4] # [start, end), end is exclusive; Python index starts from 0 (NOT from 1)\n",
    "print(name_13)"
   ]
  },
  {
   "cell_type": "code",
   "execution_count": 12,
   "metadata": {
    "ExecuteTime": {
     "end_time": "2018-10-09T00:16:33.080003Z",
     "start_time": "2018-10-09T00:16:33.075926Z"
    }
   },
   "outputs": [
    {
     "name": "stdout",
     "output_type": "stream",
     "text": [
      "E\n"
     ]
    }
   ],
   "source": [
    "last_letter = store_name[-1] # -1 means the last element\n",
    "print(last_letter)"
   ]
  },
  {
   "cell_type": "code",
   "execution_count": 13,
   "metadata": {},
   "outputs": [
    {
     "name": "stdout",
     "output_type": "stream",
     "text": [
      "BCDE\n"
     ]
    }
   ],
   "source": [
    "print(store_name[1:])"
   ]
  },
  {
   "cell_type": "code",
   "execution_count": 14,
   "metadata": {},
   "outputs": [
    {
     "name": "stdout",
     "output_type": "stream",
     "text": [
      "ABC\n"
     ]
    }
   ],
   "source": [
    "print(store_name[:3])"
   ]
  },
  {
   "cell_type": "code",
   "execution_count": 15,
   "metadata": {},
   "outputs": [
    {
     "name": "stdout",
     "output_type": "stream",
     "text": [
      "BC\n"
     ]
    }
   ],
   "source": [
    "print(store_name[-4:-2])"
   ]
  },
  {
   "cell_type": "markdown",
   "metadata": {},
   "source": [
    "---"
   ]
  },
  {
   "cell_type": "markdown",
   "metadata": {},
   "source": [
    "### Primitive (Basic) Data Types"
   ]
  },
  {
   "cell_type": "markdown",
   "metadata": {},
   "source": [
    "#### Numbers"
   ]
  },
  {
   "cell_type": "markdown",
   "metadata": {},
   "source": [
    "For numbers w/o fractional parts, we say they are ___integer___. In Python, they are called `int`"
   ]
  },
  {
   "cell_type": "code",
   "execution_count": 16,
   "metadata": {
    "ExecuteTime": {
     "end_time": "2018-10-08T23:51:10.632494Z",
     "start_time": "2018-10-08T23:51:10.598421Z"
    }
   },
   "outputs": [
    {
     "data": {
      "text/plain": [
       "int"
      ]
     },
     "execution_count": 16,
     "metadata": {},
     "output_type": "execute_result"
    }
   ],
   "source": [
    "x = 3\n",
    "type(x)"
   ]
  },
  {
   "cell_type": "markdown",
   "metadata": {},
   "source": [
    "For numbers w/ fractional parts, they are floating point numbers. They are named `float` in Python."
   ]
  },
  {
   "cell_type": "code",
   "execution_count": 17,
   "metadata": {
    "ExecuteTime": {
     "end_time": "2018-10-08T23:51:54.013974Z",
     "start_time": "2018-10-08T23:51:54.008407Z"
    }
   },
   "outputs": [
    {
     "data": {
      "text/plain": [
       "float"
      ]
     },
     "execution_count": 17,
     "metadata": {},
     "output_type": "execute_result"
    }
   ],
   "source": [
    "y = 3.0\n",
    "type(y)"
   ]
  },
  {
   "cell_type": "markdown",
   "metadata": {
    "ExecuteTime": {
     "end_time": "2018-10-08T23:55:03.134594Z",
     "start_time": "2018-10-08T23:55:03.118103Z"
    }
   },
   "source": [
    "We can apply arithmetic to these numbers. However, one thing we need to be careful about is ___type conversion___. See the example below."
   ]
  },
  {
   "cell_type": "code",
   "execution_count": 18,
   "metadata": {
    "ExecuteTime": {
     "end_time": "2018-10-08T23:55:31.855870Z",
     "start_time": "2018-10-08T23:55:31.847879Z"
    }
   },
   "outputs": [
    {
     "data": {
      "text/plain": [
       "int"
      ]
     },
     "execution_count": 18,
     "metadata": {},
     "output_type": "execute_result"
    }
   ],
   "source": [
    "z = 2 * x\n",
    "type(z)"
   ]
  },
  {
   "cell_type": "code",
   "execution_count": 19,
   "metadata": {
    "ExecuteTime": {
     "end_time": "2018-10-08T23:55:36.207707Z",
     "start_time": "2018-10-08T23:55:36.202449Z"
    }
   },
   "outputs": [
    {
     "data": {
      "text/plain": [
       "float"
      ]
     },
     "execution_count": 19,
     "metadata": {},
     "output_type": "execute_result"
    }
   ],
   "source": [
    "z = y + x\n",
    "type(z)"
   ]
  },
  {
   "cell_type": "markdown",
   "metadata": {},
   "source": [
    "#### Text/Characters/Strings"
   ]
  },
  {
   "cell_type": "markdown",
   "metadata": {},
   "source": [
    "In Python, we use `str` type for storing letters, words, and any other characters, as mentioned previously in Section 2.2"
   ]
  },
  {
   "cell_type": "code",
   "execution_count": 20,
   "metadata": {
    "ExecuteTime": {
     "end_time": "2018-10-08T23:57:26.831211Z",
     "start_time": "2018-10-08T23:57:26.826020Z"
    }
   },
   "outputs": [
    {
     "data": {
      "text/plain": [
       "str"
      ]
     },
     "execution_count": 20,
     "metadata": {},
     "output_type": "execute_result"
    }
   ],
   "source": [
    "my_word = \"see you\"\n",
    "type(my_word)"
   ]
  },
  {
   "cell_type": "markdown",
   "metadata": {},
   "source": [
    "Unlike numbers, `str` is an iterable object, meaning that we can iterate through each individual character:"
   ]
  },
  {
   "cell_type": "code",
   "execution_count": 21,
   "metadata": {
    "ExecuteTime": {
     "end_time": "2018-10-08T23:58:44.058368Z",
     "start_time": "2018-10-08T23:58:44.052694Z"
    }
   },
   "outputs": [
    {
     "data": {
      "text/plain": [
       "('s', 'e yo')"
      ]
     },
     "execution_count": 21,
     "metadata": {},
     "output_type": "execute_result"
    }
   ],
   "source": [
    "my_word[0], my_word[2:6]"
   ]
  },
  {
   "cell_type": "markdown",
   "metadata": {},
   "source": [
    "We can also use `+` to _concatenate_ different strings "
   ]
  },
  {
   "cell_type": "code",
   "execution_count": 22,
   "metadata": {
    "ExecuteTime": {
     "end_time": "2018-10-08T23:59:16.399980Z",
     "start_time": "2018-10-08T23:59:16.395030Z"
    }
   },
   "outputs": [
    {
     "data": {
      "text/plain": [
       "'see you tomorrow'"
      ]
     },
     "execution_count": 22,
     "metadata": {},
     "output_type": "execute_result"
    }
   ],
   "source": [
    "my_word + ' tomorrow'"
   ]
  },
  {
   "cell_type": "markdown",
   "metadata": {},
   "source": [
    "#### Boolean"
   ]
  },
  {
   "cell_type": "markdown",
   "metadata": {},
   "source": [
    "Boolean type comes in handy when we need to check conditions. For example:"
   ]
  },
  {
   "cell_type": "code",
   "execution_count": 23,
   "metadata": {
    "ExecuteTime": {
     "end_time": "2018-10-09T00:00:33.751846Z",
     "start_time": "2018-10-09T00:00:33.746658Z"
    }
   },
   "outputs": [
    {
     "data": {
      "text/plain": [
       "(False, bool)"
      ]
     },
     "execution_count": 23,
     "metadata": {},
     "output_type": "execute_result"
    }
   ],
   "source": [
    "my_error = 1.6\n",
    "compare_result = my_error < 0.1\n",
    "compare_result, type(compare_result)"
   ]
  },
  {
   "cell_type": "markdown",
   "metadata": {},
   "source": [
    "There are two and only two valid Boolean values: `True` and `False`. We can also think of them as `1` and `0`, respectively."
   ]
  },
  {
   "cell_type": "code",
   "execution_count": 24,
   "metadata": {
    "ExecuteTime": {
     "end_time": "2018-10-09T00:02:30.834630Z",
     "start_time": "2018-10-09T00:02:30.830339Z"
    }
   },
   "outputs": [
    {
     "data": {
      "text/plain": [
       "True"
      ]
     },
     "execution_count": 24,
     "metadata": {},
     "output_type": "execute_result"
    }
   ],
   "source": [
    "my_error > 0"
   ]
  },
  {
   "cell_type": "markdown",
   "metadata": {},
   "source": [
    "When we use Boolean values for arithmetic operations, they will become `1` or `0` automatically"
   ]
  },
  {
   "cell_type": "code",
   "execution_count": 25,
   "metadata": {
    "ExecuteTime": {
     "end_time": "2018-10-09T00:02:52.791120Z",
     "start_time": "2018-10-09T00:02:52.783315Z"
    }
   },
   "outputs": [
    {
     "data": {
      "text/plain": [
       "3"
      ]
     },
     "execution_count": 25,
     "metadata": {},
     "output_type": "execute_result"
    }
   ],
   "source": [
    "(my_error>0) + 2"
   ]
  },
  {
   "cell_type": "markdown",
   "metadata": {},
   "source": [
    "#### Type Conversion"
   ]
  },
  {
   "cell_type": "markdown",
   "metadata": {},
   "source": [
    "Since variables in Python are dynamically typed, we need to be careful about type conversion."
   ]
  },
  {
   "cell_type": "markdown",
   "metadata": {},
   "source": [
    "When two variables share the same data type, there is not much to be worried about:"
   ]
  },
  {
   "cell_type": "code",
   "execution_count": 26,
   "metadata": {
    "ExecuteTime": {
     "end_time": "2018-10-09T00:04:59.077234Z",
     "start_time": "2018-10-09T00:04:59.072252Z"
    }
   },
   "outputs": [
    {
     "data": {
      "text/plain": [
       "'no problem. talk to you later'"
      ]
     },
     "execution_count": 26,
     "metadata": {},
     "output_type": "execute_result"
    }
   ],
   "source": [
    "s1 = \"no problem. \"\n",
    "s2 = \"talk to you later\"\n",
    "s1 + s2"
   ]
  },
  {
   "cell_type": "markdown",
   "metadata": {},
   "source": [
    "But be careful when we are mixing variables up:"
   ]
  },
  {
   "cell_type": "code",
   "execution_count": 27,
   "metadata": {
    "ExecuteTime": {
     "end_time": "2018-10-09T00:06:03.221806Z",
     "start_time": "2018-10-09T00:06:03.217855Z"
    }
   },
   "outputs": [],
   "source": [
    "a = 3 # recall that this is an ____?\n",
    "b = 2.7 # how about this?\n",
    "c = a + b # what is the type of `c`?"
   ]
  },
  {
   "cell_type": "markdown",
   "metadata": {},
   "source": [
    "To make things work between string and numbers, we can explicitly convert numbers into `str`:"
   ]
  },
  {
   "cell_type": "code",
   "execution_count": 28,
   "metadata": {
    "ExecuteTime": {
     "end_time": "2018-10-09T00:07:59.974061Z",
     "start_time": "2018-10-09T00:07:59.964373Z"
    }
   },
   "outputs": [
    {
     "ename": "TypeError",
     "evalue": "must be str, not int",
     "output_type": "error",
     "traceback": [
      "\u001b[0;31m---------------------------------------------------------------------------\u001b[0m",
      "\u001b[0;31mTypeError\u001b[0m                                 Traceback (most recent call last)",
      "\u001b[0;32m<ipython-input-28-f90ed9df3b77>\u001b[0m in \u001b[0;36m<module>\u001b[0;34m()\u001b[0m\n\u001b[0;32m----> 1\u001b[0;31m \u001b[0ms1\u001b[0m \u001b[0;34m+\u001b[0m \u001b[0;36m3\u001b[0m\u001b[0;34m\u001b[0m\u001b[0;34m\u001b[0m\u001b[0m\n\u001b[0m",
      "\u001b[0;31mTypeError\u001b[0m: must be str, not int"
     ]
    }
   ],
   "source": [
    "s1 + 3"
   ]
  },
  {
   "cell_type": "code",
   "execution_count": 29,
   "metadata": {
    "ExecuteTime": {
     "end_time": "2018-10-09T00:08:04.034457Z",
     "start_time": "2018-10-09T00:08:04.027842Z"
    }
   },
   "outputs": [
    {
     "data": {
      "text/plain": [
       "'no problem. 3'"
      ]
     },
     "execution_count": 29,
     "metadata": {},
     "output_type": "execute_result"
    }
   ],
   "source": [
    "s1 + str(3)"
   ]
  },
  {
   "cell_type": "markdown",
   "metadata": {},
   "source": [
    "---"
   ]
  },
  {
   "cell_type": "markdown",
   "metadata": {},
   "source": [
    "### Data Structures"
   ]
  },
  {
   "cell_type": "markdown",
   "metadata": {},
   "source": [
    "- A sort of _containers_ to store primitive type variables"
   ]
  },
  {
   "cell_type": "markdown",
   "metadata": {},
   "source": [
    "#### List"
   ]
  },
  {
   "cell_type": "code",
   "execution_count": 30,
   "metadata": {},
   "outputs": [],
   "source": [
    "a_list = [1, 2, 3] # commas to seperate elements"
   ]
  },
  {
   "cell_type": "markdown",
   "metadata": {},
   "source": [
    "Initialize a list with brackets. You can store anything in a list, even if they are different types\n",
    "- note that we use [___string formatting___](https://pyformat.info/) to display strings\n",
    "- `%i` is a placeholder for `int`\n",
    "- `%s` for `str`"
   ]
  },
  {
   "cell_type": "code",
   "execution_count": 31,
   "metadata": {
    "ExecuteTime": {
     "end_time": "2018-10-09T00:10:24.538230Z",
     "start_time": "2018-10-09T00:10:24.528793Z"
    }
   },
   "outputs": [
    {
     "name": "stdout",
     "output_type": "stream",
     "text": [
      "Length of a_list is: 3\n",
      "The 3rd element of a_list is: 3\n",
      "The last element of a_list is: 3\n",
      "The sum of a_list is 6.00\n"
     ]
    }
   ],
   "source": [
    "print(\"Length of a_list is: %i\"%(len(a_list)))\n",
    "print(\"The 3rd element of a_list is: %s\" %(a_list[2])) # Remember Python starts with 0\n",
    "print(\"The last element of a_list is: %s\" %(a_list[-1])) # -1 means the end\n",
    "print(\"The sum of a_list is %.2f\"%(sum(a_list)))"
   ]
  },
  {
   "cell_type": "markdown",
   "metadata": {
    "ExecuteTime": {
     "end_time": "2018-10-09T00:10:32.820098Z",
     "start_time": "2018-10-09T00:10:32.815341Z"
    }
   },
   "source": [
    "We can put different types in a list"
   ]
  },
  {
   "cell_type": "code",
   "execution_count": 32,
   "metadata": {
    "ExecuteTime": {
     "end_time": "2018-10-09T00:10:35.486742Z",
     "start_time": "2018-10-09T00:10:35.479281Z"
    }
   },
   "outputs": [
    {
     "data": {
      "text/plain": [
       "[20, True, 'good', 'good']"
      ]
     },
     "execution_count": 32,
     "metadata": {},
     "output_type": "execute_result"
    }
   ],
   "source": [
    "b_list = [20, True, \"good\", \"good\"] \n",
    "b_list"
   ]
  },
  {
   "cell_type": "markdown",
   "metadata": {},
   "source": [
    "Update a list: __pop__, __remove__, __append__, __extend__"
   ]
  },
  {
   "cell_type": "code",
   "execution_count": 33,
   "metadata": {
    "ExecuteTime": {
     "end_time": "2018-10-09T00:10:41.107486Z",
     "start_time": "2018-10-09T00:10:41.102493Z"
    }
   },
   "outputs": [
    {
     "name": "stdout",
     "output_type": "stream",
     "text": [
      "[1, 2, 3]\n",
      "Pop 2 out of a_list\n",
      "[1, 3]\n"
     ]
    }
   ],
   "source": [
    "print(a_list)\n",
    "print(\"Pop %i out of a_list\" % a_list.pop(1)) # pop the value of an index\n",
    "print(a_list)"
   ]
  },
  {
   "cell_type": "code",
   "execution_count": 34,
   "metadata": {
    "ExecuteTime": {
     "end_time": "2018-10-09T00:10:43.906572Z",
     "start_time": "2018-10-09T00:10:43.899877Z"
    }
   },
   "outputs": [
    {
     "name": "stdout",
     "output_type": "stream",
     "text": [
      "Remove the string good from b_list:\n",
      "[20, True, 'good']\n"
     ]
    }
   ],
   "source": [
    "print(\"Remove the string good from b_list:\")\n",
    "b_list.remove(\"good\") # remove a specific value (the first one in the list)\n",
    "print(b_list)"
   ]
  },
  {
   "cell_type": "code",
   "execution_count": 35,
   "metadata": {
    "ExecuteTime": {
     "end_time": "2018-10-09T00:10:45.307563Z",
     "start_time": "2018-10-09T00:10:45.302951Z"
    }
   },
   "outputs": [
    {
     "name": "stdout",
     "output_type": "stream",
     "text": [
      "After appending a new value, a_list is now: [1, 3, 10]\n"
     ]
    }
   ],
   "source": [
    "a_list.append(10)\n",
    "print(\"After appending a new value, a_list is now: %s\" % (str(a_list)))"
   ]
  },
  {
   "cell_type": "markdown",
   "metadata": {
    "ExecuteTime": {
     "end_time": "2018-10-09T00:10:45.952388Z",
     "start_time": "2018-10-09T00:10:45.943473Z"
    }
   },
   "source": [
    "merge `a_list` and `b_list`: "
   ]
  },
  {
   "cell_type": "code",
   "execution_count": 36,
   "metadata": {
    "ExecuteTime": {
     "end_time": "2018-10-09T00:12:02.249064Z",
     "start_time": "2018-10-09T00:12:02.241901Z"
    }
   },
   "outputs": [
    {
     "name": "stdout",
     "output_type": "stream",
     "text": [
      "Merging a_list and b_list: [1, 3, 10, 20, True, 'good']\n"
     ]
    }
   ],
   "source": [
    "a_list.extend(b_list)\n",
    "print(\"Merging a_list and b_list: %s\" % (str(a_list)))"
   ]
  },
  {
   "cell_type": "markdown",
   "metadata": {
    "ExecuteTime": {
     "end_time": "2018-10-09T00:10:45.952388Z",
     "start_time": "2018-10-09T00:10:45.943473Z"
    }
   },
   "source": [
    "We can also use `+` to concatenate two lists"
   ]
  },
  {
   "cell_type": "code",
   "execution_count": 37,
   "metadata": {
    "ExecuteTime": {
     "end_time": "2018-10-09T00:12:03.301969Z",
     "start_time": "2018-10-09T00:12:03.295626Z"
    }
   },
   "outputs": [
    {
     "data": {
      "text/plain": [
       "[1, 3, 10, 20, True, 'good', 20, True, 'good']"
      ]
     },
     "execution_count": 37,
     "metadata": {},
     "output_type": "execute_result"
    }
   ],
   "source": [
    "a_list + b_list "
   ]
  },
  {
   "cell_type": "markdown",
   "metadata": {},
   "source": [
    "Use `*` to repeat lists."
   ]
  },
  {
   "cell_type": "code",
   "execution_count": 38,
   "metadata": {},
   "outputs": [
    {
     "data": {
      "text/plain": [
       "[1, 2, 1, 2, 1, 2]"
      ]
     },
     "execution_count": 38,
     "metadata": {},
     "output_type": "execute_result"
    }
   ],
   "source": [
    "[1,2]*3"
   ]
  },
  {
   "cell_type": "markdown",
   "metadata": {},
   "source": [
    "Use the `in` operator to check if something is inside a list."
   ]
  },
  {
   "cell_type": "code",
   "execution_count": 39,
   "metadata": {},
   "outputs": [
    {
     "data": {
      "text/plain": [
       "True"
      ]
     },
     "execution_count": 39,
     "metadata": {},
     "output_type": "execute_result"
    }
   ],
   "source": [
    "2 in [1, 2, 3]"
   ]
  },
  {
   "cell_type": "code",
   "execution_count": 40,
   "metadata": {},
   "outputs": [
    {
     "name": "stdout",
     "output_type": "stream",
     "text": [
      "Korea\n",
      "Ansan\n"
     ]
    }
   ],
   "source": [
    "name = 'Korea University Hospital at Ansan'\n",
    "tokens = name.split(' ')\n",
    "print(tokens[0])\n",
    "print(tokens[-1])"
   ]
  },
  {
   "cell_type": "markdown",
   "metadata": {},
   "source": [
    "#### Tuple (A special case of list whose elements cannot be changed)"
   ]
  },
  {
   "cell_type": "code",
   "execution_count": 41,
   "metadata": {
    "ExecuteTime": {
     "end_time": "2018-10-09T00:12:16.790034Z",
     "start_time": "2018-10-09T00:12:16.784149Z"
    }
   },
   "outputs": [
    {
     "name": "stdout",
     "output_type": "stream",
     "text": [
      "(1, 2, 3, 10)\n",
      "First element of a_tuple: 1\n"
     ]
    },
    {
     "data": {
      "text/plain": [
       "tuple"
      ]
     },
     "execution_count": 41,
     "metadata": {},
     "output_type": "execute_result"
    }
   ],
   "source": [
    "a_tuple = (1, 2, 3, 10)\n",
    "print(a_tuple)\n",
    "print(\"First element of a_tuple: %i\"%a_tuple[0])\n",
    "type(a_tuple)"
   ]
  },
  {
   "cell_type": "markdown",
   "metadata": {
    "ExecuteTime": {
     "end_time": "2018-10-09T00:12:17.683012Z",
     "start_time": "2018-10-09T00:12:17.672651Z"
    }
   },
   "source": [
    "You cannot change the values of a_tuple"
   ]
  },
  {
   "cell_type": "code",
   "execution_count": 42,
   "metadata": {
    "ExecuteTime": {
     "end_time": "2018-10-09T00:12:24.288097Z",
     "start_time": "2018-10-09T00:12:24.278444Z"
    }
   },
   "outputs": [
    {
     "ename": "TypeError",
     "evalue": "'tuple' object does not support item assignment",
     "output_type": "error",
     "traceback": [
      "\u001b[0;31m---------------------------------------------------------------------------\u001b[0m",
      "\u001b[0;31mTypeError\u001b[0m                                 Traceback (most recent call last)",
      "\u001b[0;32m<ipython-input-42-0775dda10b17>\u001b[0m in \u001b[0;36m<module>\u001b[0;34m()\u001b[0m\n\u001b[0;32m----> 1\u001b[0;31m \u001b[0ma_tuple\u001b[0m\u001b[0;34m[\u001b[0m\u001b[0;36m0\u001b[0m\u001b[0;34m]\u001b[0m \u001b[0;34m=\u001b[0m \u001b[0;36m5\u001b[0m\u001b[0;34m\u001b[0m\u001b[0;34m\u001b[0m\u001b[0m\n\u001b[0m",
      "\u001b[0;31mTypeError\u001b[0m: 'tuple' object does not support item assignment"
     ]
    }
   ],
   "source": [
    "a_tuple[0] = 5"
   ]
  },
  {
   "cell_type": "markdown",
   "metadata": {},
   "source": [
    "In order to create a single value tuple, you need to add a ','"
   ]
  },
  {
   "cell_type": "code",
   "execution_count": 43,
   "metadata": {},
   "outputs": [
    {
     "name": "stdout",
     "output_type": "stream",
     "text": [
      "<class 'int'>\n",
      "<class 'tuple'>\n"
     ]
    }
   ],
   "source": [
    "a_tuple = (1) # this would create a int type\n",
    "print(type(a_tuple))\n",
    "b_tuple = (1,) # this would create a tuple type, take note of the comma.\n",
    "print(type(b_tuple))"
   ]
  },
  {
   "cell_type": "markdown",
   "metadata": {},
   "source": [
    "#### Dictionary: key-value pairs"
   ]
  },
  {
   "cell_type": "markdown",
   "metadata": {},
   "source": [
    "Initialize a dict by curly brackets `{}`"
   ]
  },
  {
   "cell_type": "code",
   "execution_count": 44,
   "metadata": {
    "ExecuteTime": {
     "end_time": "2018-10-09T00:12:58.821876Z",
     "start_time": "2018-10-09T00:12:58.817697Z"
    }
   },
   "outputs": [
    {
     "name": "stdout",
     "output_type": "stream",
     "text": [
      "{'Sangkyun Lee': 'sangkyun@korea.ac.kr', 'Jaesung Kim': 'jkim@korea.ac.kr'}\n"
     ]
    }
   ],
   "source": [
    "d = {} # empty dictionary\n",
    "d['Sangkyun Lee'] = \"sangkyun@korea.ac.kr\" # add a key-value \n",
    "d['Jaesung Kim'] = \"jkim@korea.ac.kr\"\n",
    "print(d)"
   ]
  },
  {
   "cell_type": "markdown",
   "metadata": {},
   "source": [
    "Iterate over all of the keys:"
   ]
  },
  {
   "cell_type": "code",
   "execution_count": 45,
   "metadata": {},
   "outputs": [
    {
     "name": "stdout",
     "output_type": "stream",
     "text": [
      "Sangkyun Lee\n",
      "Jaesung Kim\n"
     ]
    }
   ],
   "source": [
    "for i in d:\n",
    "    print(i)"
   ]
  },
  {
   "cell_type": "markdown",
   "metadata": {},
   "source": [
    "Iterate over all of the values:"
   ]
  },
  {
   "cell_type": "code",
   "execution_count": 46,
   "metadata": {},
   "outputs": [
    {
     "name": "stdout",
     "output_type": "stream",
     "text": [
      "sangkyun@korea.ac.kr\n",
      "jkim@korea.ac.kr\n"
     ]
    }
   ],
   "source": [
    "for i in d.values():\n",
    "    print(i)"
   ]
  },
  {
   "cell_type": "markdown",
   "metadata": {},
   "source": [
    "Iterate over all of the items in the dictionary:"
   ]
  },
  {
   "cell_type": "code",
   "execution_count": 47,
   "metadata": {},
   "outputs": [
    {
     "name": "stdout",
     "output_type": "stream",
     "text": [
      "Sangkyun Lee\n",
      "sangkyun@korea.ac.kr\n",
      "Jaesung Kim\n",
      "jkim@korea.ac.kr\n"
     ]
    }
   ],
   "source": [
    "for name, email in d.items():\n",
    "    print(name)\n",
    "    print(email)"
   ]
  },
  {
   "cell_type": "markdown",
   "metadata": {},
   "source": [
    "You can unpack a sequence into different variables:"
   ]
  },
  {
   "cell_type": "code",
   "execution_count": 48,
   "metadata": {},
   "outputs": [
    {
     "name": "stdout",
     "output_type": "stream",
     "text": [
      "Lee\n",
      "sangkyun@korea.ac.kr\n"
     ]
    }
   ],
   "source": [
    "x = ('Sangkyun', 'Lee', 'sangkyun@korea.ac.kr')\n",
    "fname, lname, email = x\n",
    "print(lname)\n",
    "print(email)"
   ]
  },
  {
   "cell_type": "markdown",
   "metadata": {},
   "source": [
    "String formatting"
   ]
  },
  {
   "cell_type": "code",
   "execution_count": 49,
   "metadata": {},
   "outputs": [
    {
     "name": "stdout",
     "output_type": "stream",
     "text": [
      "Chris bought 4 item(s) at a price of 3.24 each for a total of 12.96\n"
     ]
    }
   ],
   "source": [
    "sales_record = {\n",
    "'price': 3.24,\n",
    "'num_items': 4,\n",
    "'person': 'Chris'}\n",
    "\n",
    "sales_statement = '{} bought {} item(s) at a price of {} each for a total of {}'\n",
    "\n",
    "print(sales_statement.format(sales_record['person'],\n",
    "                             sales_record['num_items'],\n",
    "                             sales_record['price'],\n",
    "                             sales_record['num_items']*sales_record['price']))"
   ]
  },
  {
   "cell_type": "markdown",
   "metadata": {},
   "source": [
    "---"
   ]
  },
  {
   "cell_type": "markdown",
   "metadata": {},
   "source": [
    "### Control Logics\n",
    "\n",
    "In the following examples, we show examples of comparison, `if-else` loop, `for` loop, and `while` loop."
   ]
  },
  {
   "cell_type": "markdown",
   "metadata": {},
   "source": [
    "#### Comparison"
   ]
  },
  {
   "cell_type": "markdown",
   "metadata": {},
   "source": [
    "Python syntax for comparison is the same as our hand-written convention: \n",
    "\n",
    "1. Larger (or equal): `>` (`>=`)\n",
    "2. Smaller (or equal): `<` (`<=`)\n",
    "3. Equal to: `==` (__Notie here that there are double equal signs__)\n",
    "4. Not equal to: `!=`"
   ]
  },
  {
   "cell_type": "code",
   "execution_count": 50,
   "metadata": {
    "ExecuteTime": {
     "end_time": "2018-10-09T00:16:20.683160Z",
     "start_time": "2018-10-09T00:16:20.676171Z"
    }
   },
   "outputs": [
    {
     "data": {
      "text/plain": [
       "False"
      ]
     },
     "execution_count": 50,
     "metadata": {},
     "output_type": "execute_result"
    }
   ],
   "source": [
    "3 == 5 "
   ]
  },
  {
   "cell_type": "code",
   "execution_count": 51,
   "metadata": {
    "ExecuteTime": {
     "end_time": "2018-10-09T00:16:21.107023Z",
     "start_time": "2018-10-09T00:16:21.102607Z"
    }
   },
   "outputs": [
    {
     "data": {
      "text/plain": [
       "True"
      ]
     },
     "execution_count": 51,
     "metadata": {},
     "output_type": "execute_result"
    }
   ],
   "source": [
    "72 >= 2"
   ]
  },
  {
   "cell_type": "code",
   "execution_count": 52,
   "metadata": {
    "ExecuteTime": {
     "end_time": "2018-10-09T00:16:49.169393Z",
     "start_time": "2018-10-09T00:16:49.164386Z"
    }
   },
   "outputs": [
    {
     "data": {
      "text/plain": [
       "'ABCDE'"
      ]
     },
     "execution_count": 52,
     "metadata": {},
     "output_type": "execute_result"
    }
   ],
   "source": [
    "store_name"
   ]
  },
  {
   "cell_type": "code",
   "execution_count": 53,
   "metadata": {
    "ExecuteTime": {
     "end_time": "2018-10-09T00:16:49.460268Z",
     "start_time": "2018-10-09T00:16:49.453590Z"
    }
   },
   "outputs": [
    {
     "data": {
      "text/plain": [
       "False"
      ]
     },
     "execution_count": 53,
     "metadata": {},
     "output_type": "execute_result"
    }
   ],
   "source": [
    "store_name == \"HyVee\" # Will return a boolean value True or False"
   ]
  },
  {
   "cell_type": "markdown",
   "metadata": {},
   "source": [
    "IMPORTANT: It is worth noting that comparisons between floating point numbers are tricky."
   ]
  },
  {
   "cell_type": "code",
   "execution_count": 54,
   "metadata": {
    "ExecuteTime": {
     "end_time": "2018-10-09T00:17:16.577984Z",
     "start_time": "2018-10-09T00:17:16.571556Z"
    }
   },
   "outputs": [
    {
     "name": "stdout",
     "output_type": "stream",
     "text": [
      "6.6000000000000005\n"
     ]
    },
    {
     "data": {
      "text/plain": [
       "False"
      ]
     },
     "execution_count": 54,
     "metadata": {},
     "output_type": "execute_result"
    }
   ],
   "source": [
    "print(2.2 * 3.0)\n",
    "2.2 * 3.0 == 6.6"
   ]
  },
  {
   "cell_type": "code",
   "execution_count": 55,
   "metadata": {
    "ExecuteTime": {
     "end_time": "2018-10-09T00:17:16.777940Z",
     "start_time": "2018-10-09T00:17:16.771796Z"
    }
   },
   "outputs": [
    {
     "data": {
      "text/plain": [
       "True"
      ]
     },
     "execution_count": 55,
     "metadata": {},
     "output_type": "execute_result"
    }
   ],
   "source": [
    "3.3 * 2.0 == 6.6"
   ]
  },
  {
   "cell_type": "markdown",
   "metadata": {},
   "source": [
    "#### If-Else"
   ]
  },
  {
   "cell_type": "code",
   "execution_count": 56,
   "metadata": {
    "ExecuteTime": {
     "end_time": "2018-10-09T01:38:46.027739Z",
     "start_time": "2018-10-09T01:38:46.023274Z"
    }
   },
   "outputs": [],
   "source": [
    "sum_ = -1"
   ]
  },
  {
   "cell_type": "code",
   "execution_count": 57,
   "metadata": {
    "ExecuteTime": {
     "end_time": "2018-10-09T01:38:47.709640Z",
     "start_time": "2018-10-09T01:38:47.704307Z"
    }
   },
   "outputs": [
    {
     "name": "stdout",
     "output_type": "stream",
     "text": [
      "sum_ is less than 0\n"
     ]
    }
   ],
   "source": [
    "if sum_ == 0:\n",
    "    print(\"sum_ is 0\")\n",
    "elif sum_ < 0:\n",
    "    print(\"sum_ is less than 0\")\n",
    "else:\n",
    "    print(\"sum_ is above 0 and its value is \" + str(sum_)) # Cast sum_ into string type."
   ]
  },
  {
   "cell_type": "markdown",
   "metadata": {},
   "source": [
    "Note that you do not have to use `if-else` or `if-elif-...-else`. You can use `if` without other clauses following that."
   ]
  },
  {
   "cell_type": "code",
   "execution_count": 58,
   "metadata": {
    "ExecuteTime": {
     "end_time": "2018-10-09T01:38:49.218876Z",
     "start_time": "2018-10-09T01:38:49.214871Z"
    }
   },
   "outputs": [],
   "source": [
    "if sum_ > 5:\n",
    "    print('sum_ is above 5')"
   ]
  },
  {
   "cell_type": "markdown",
   "metadata": {},
   "source": [
    "Comparing strings are similar"
   ]
  },
  {
   "cell_type": "code",
   "execution_count": 59,
   "metadata": {
    "ExecuteTime": {
     "end_time": "2018-10-09T01:38:50.755605Z",
     "start_time": "2018-10-09T01:38:50.751523Z"
    }
   },
   "outputs": [],
   "source": [
    "store_name = 'Walmart'"
   ]
  },
  {
   "cell_type": "code",
   "execution_count": 60,
   "metadata": {
    "ExecuteTime": {
     "end_time": "2018-10-09T01:38:57.568568Z",
     "start_time": "2018-10-09T01:38:57.563726Z"
    }
   },
   "outputs": [
    {
     "name": "stdout",
     "output_type": "stream",
     "text": [
      "The store is likely to be the Walmart.\n"
     ]
    }
   ],
   "source": [
    "if 'Wal' in store_name:\n",
    "    print(\"The store is likely to be the Walmart.\")\n",
    "else:\n",
    "    print(\"The store is not likely to be the Walmart.\")"
   ]
  },
  {
   "cell_type": "markdown",
   "metadata": {},
   "source": [
    "#### For loop: Iterating thru a sequence"
   ]
  },
  {
   "cell_type": "code",
   "execution_count": 61,
   "metadata": {
    "ExecuteTime": {
     "end_time": "2018-10-09T01:39:07.309307Z",
     "start_time": "2018-10-09T01:39:07.305696Z"
    }
   },
   "outputs": [
    {
     "name": "stdout",
     "output_type": "stream",
     "text": [
      "W\n",
      "a\n",
      "l\n",
      "m\n",
      "a\n",
      "r\n",
      "t\n"
     ]
    }
   ],
   "source": [
    "for letter in store_name:\n",
    "    print(letter)"
   ]
  },
  {
   "cell_type": "markdown",
   "metadata": {
    "ExecuteTime": {
     "end_time": "2017-10-04T18:38:51.792543Z",
     "start_time": "2017-10-04T18:38:51.786228Z"
    }
   },
   "source": [
    "`range()` is a function to create interger sequences:\n",
    "- `range(0,1000)`, `range(1000)` : 0 ~ 999"
   ]
  },
  {
   "cell_type": "code",
   "execution_count": 62,
   "metadata": {},
   "outputs": [
    {
     "data": {
      "text/plain": [
       "range(1, 10)"
      ]
     },
     "execution_count": 62,
     "metadata": {},
     "output_type": "execute_result"
    }
   ],
   "source": [
    "range(1,10)"
   ]
  },
  {
   "cell_type": "markdown",
   "metadata": {},
   "source": [
    "Range to list"
   ]
  },
  {
   "cell_type": "code",
   "execution_count": 63,
   "metadata": {},
   "outputs": [
    {
     "data": {
      "text/plain": [
       "[1, 2, 3, 4, 5, 6, 7, 8, 9]"
      ]
     },
     "execution_count": 63,
     "metadata": {},
     "output_type": "execute_result"
    }
   ],
   "source": [
    "list(range(1,10))"
   ]
  },
  {
   "cell_type": "code",
   "execution_count": 64,
   "metadata": {
    "ExecuteTime": {
     "end_time": "2018-10-09T01:41:05.935416Z",
     "start_time": "2018-10-09T01:41:05.930030Z"
    }
   },
   "outputs": [
    {
     "name": "stdout",
     "output_type": "stream",
     "text": [
      "The 0th letter in store_name is: W\n",
      "The 1th letter in store_name is: a\n",
      "The 2th letter in store_name is: l\n",
      "The 3th letter in store_name is: m\n",
      "The 4th letter in store_name is: a\n",
      "The 5th letter in store_name is: r\n",
      "The 6th letter in store_name is: t\n"
     ]
    }
   ],
   "source": [
    "for index in range(len(store_name)): # length of a sequence\n",
    "    print(\"The %ith letter in store_name is: %s\" % (index, store_name[index]))"
   ]
  },
  {
   "cell_type": "markdown",
   "metadata": {},
   "source": [
    "#### While loop: Keep doing until condition no longer holds."
   ]
  },
  {
   "cell_type": "markdown",
   "metadata": {},
   "source": [
    "Use `for` when you know __the exact number of iterations__; use `while` when you __do not (e.g., checking convergence)__."
   ]
  },
  {
   "cell_type": "code",
   "execution_count": 72,
   "metadata": {
    "ExecuteTime": {
     "end_time": "2018-10-09T01:41:12.053207Z",
     "start_time": "2018-10-09T01:41:12.049347Z"
    }
   },
   "outputs": [],
   "source": [
    "x = 1"
   ]
  },
  {
   "cell_type": "code",
   "execution_count": 73,
   "metadata": {
    "ExecuteTime": {
     "end_time": "2018-10-09T01:41:12.294825Z",
     "start_time": "2018-10-09T01:41:12.290846Z"
    }
   },
   "outputs": [
    {
     "name": "stdout",
     "output_type": "stream",
     "text": [
      "1\n",
      "2\n",
      "3\n",
      "4\n",
      "5\n",
      "6\n",
      "7\n",
      "8\n",
      "9\n",
      "0\n"
     ]
    }
   ],
   "source": [
    "while x < 10:\n",
    "    print(x)\n",
    "    x += 1  # same as x = x+1\n",
    "\n",
    "print(0)"
   ]
  },
  {
   "cell_type": "markdown",
   "metadata": {},
   "source": [
    "#### `break` and `continue`"
   ]
  },
  {
   "cell_type": "markdown",
   "metadata": {},
   "source": [
    "`break` means get out of the loop immediately. Any code after the `break` will NOT be executed."
   ]
  },
  {
   "cell_type": "code",
   "execution_count": 67,
   "metadata": {
    "ExecuteTime": {
     "end_time": "2018-10-09T01:41:21.493159Z",
     "start_time": "2018-10-09T01:41:21.489747Z"
    }
   },
   "outputs": [],
   "source": [
    "store_name = 'Walmart'"
   ]
  },
  {
   "cell_type": "code",
   "execution_count": 76,
   "metadata": {
    "ExecuteTime": {
     "end_time": "2018-10-09T01:41:22.084338Z",
     "start_time": "2018-10-09T01:41:22.076857Z"
    }
   },
   "outputs": [
    {
     "name": "stdout",
     "output_type": "stream",
     "text": [
      "W\n",
      "We've found 'a'\n"
     ]
    }
   ],
   "source": [
    "index = 0\n",
    "while True:\n",
    "    print(store_name[index])\n",
    "    index += 1 \n",
    "    if store_name[index] == \"a\":\n",
    "        print(\"We've found 'a'\")\n",
    "        break \n",
    "        print(\"Hello!\") # This will NOT be run"
   ]
  },
  {
   "cell_type": "markdown",
   "metadata": {},
   "source": [
    "`continue` means get to the next iteration of loop. It will __break__ the current iteration and __continue__ to the next."
   ]
  },
  {
   "cell_type": "code",
   "execution_count": 77,
   "metadata": {
    "ExecuteTime": {
     "end_time": "2018-10-09T01:41:23.822603Z",
     "start_time": "2018-10-09T01:41:23.818257Z"
    }
   },
   "outputs": [
    {
     "name": "stdout",
     "output_type": "stream",
     "text": [
      "W\n",
      "l\n",
      "m\n",
      "r\n",
      "t\n"
     ]
    }
   ],
   "source": [
    "for letter in store_name:\n",
    "    if letter == \"a\":\n",
    "        continue\n",
    "    else:\n",
    "        print(letter)"
   ]
  }
 ],
 "metadata": {
  "hide_input": false,
  "kernelspec": {
   "display_name": "Python 3",
   "language": "python",
   "name": "python3"
  },
  "language_info": {
   "codemirror_mode": {
    "name": "ipython",
    "version": 3
   },
   "file_extension": ".py",
   "mimetype": "text/x-python",
   "name": "python",
   "nbconvert_exporter": "python",
   "pygments_lexer": "ipython3",
   "version": "3.6.8"
  },
  "toc": {
   "base_numbering": 1,
   "nav_menu": {},
   "number_sections": true,
   "sideBar": true,
   "skip_h1_title": false,
   "title_cell": "Table of Contents",
   "title_sidebar": "Contents",
   "toc_cell": false,
   "toc_position": {
    "height": "677px",
    "left": "0px",
    "right": "1111px",
    "top": "43px",
    "width": "340px"
   },
   "toc_section_display": "block",
   "toc_window_display": true
  },
  "varInspector": {
   "cols": {
    "lenName": 16,
    "lenType": 16,
    "lenVar": 40
   },
   "kernels_config": {
    "python": {
     "delete_cmd_postfix": "",
     "delete_cmd_prefix": "del ",
     "library": "var_list.py",
     "varRefreshCmd": "print(var_dic_list())"
    },
    "r": {
     "delete_cmd_postfix": ") ",
     "delete_cmd_prefix": "rm(",
     "library": "var_list.r",
     "varRefreshCmd": "cat(var_dic_list()) "
    }
   },
   "types_to_exclude": [
    "module",
    "function",
    "builtin_function_or_method",
    "instance",
    "_Feature"
   ],
   "window_display": false
  }
 },
 "nbformat": 4,
 "nbformat_minor": 2
}
