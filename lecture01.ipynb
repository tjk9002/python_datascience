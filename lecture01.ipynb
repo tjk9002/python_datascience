{
  "nbformat": 4,
  "nbformat_minor": 0,
  "metadata": {
    "hide_input": false,
    "kernelspec": {
      "display_name": "Python 3",
      "language": "python",
      "name": "python3"
    },
    "language_info": {
      "codemirror_mode": {
        "name": "ipython",
        "version": 3
      },
      "file_extension": ".py",
      "mimetype": "text/x-python",
      "name": "python",
      "nbconvert_exporter": "python",
      "pygments_lexer": "ipython3",
      "version": "3.6.8"
    },
    "toc": {
      "base_numbering": 1,
      "nav_menu": {},
      "number_sections": true,
      "sideBar": true,
      "skip_h1_title": false,
      "title_cell": "Table of Contents",
      "title_sidebar": "Contents",
      "toc_cell": false,
      "toc_position": {
        "height": "677px",
        "left": "0px",
        "right": "1111px",
        "top": "43px",
        "width": "340px"
      },
      "toc_section_display": "block",
      "toc_window_display": true
    },
    "varInspector": {
      "cols": {
        "lenName": 16,
        "lenType": 16,
        "lenVar": 40
      },
      "kernels_config": {
        "python": {
          "delete_cmd_postfix": "",
          "delete_cmd_prefix": "del ",
          "library": "var_list.py",
          "varRefreshCmd": "print(var_dic_list())"
        },
        "r": {
          "delete_cmd_postfix": ") ",
          "delete_cmd_prefix": "rm(",
          "library": "var_list.r",
          "varRefreshCmd": "cat(var_dic_list()) "
        }
      },
      "types_to_exclude": [
        "module",
        "function",
        "builtin_function_or_method",
        "instance",
        "_Feature"
      ],
      "window_display": false
    },
    "colab": {
      "name": "lecture01.ipynb",
      "provenance": [],
      "include_colab_link": true
    }
  },
  "cells": [
    {
      "cell_type": "markdown",
      "metadata": {
        "id": "view-in-github",
        "colab_type": "text"
      },
      "source": [
        "<a href=\"https://colab.research.google.com/github/sanglee/python_datascience/blob/master/lecture01.ipynb\" target=\"_parent\"><img src=\"https://colab.research.google.com/assets/colab-badge.svg\" alt=\"Open In Colab\"/></a>"
      ]
    },
    {
      "cell_type": "markdown",
      "metadata": {
        "id": "a8jwReKKRUkd",
        "colab_type": "text"
      },
      "source": [
        "## Python for Data Science\n",
        "\n",
        "@author: Sangkyun Lee  (sangkyun@korea.ac.kr)\n",
        "\n",
        "___Python Basics___"
      ]
    },
    {
      "cell_type": "markdown",
      "metadata": {
        "id": "UapBjrreRUke",
        "colab_type": "text"
      },
      "source": [
        "<hr>"
      ]
    },
    {
      "cell_type": "markdown",
      "metadata": {
        "id": "m5QLk2jaRUkf",
        "colab_type": "text"
      },
      "source": [
        "### Introduction\n",
        "\n",
        "- Python is a interpreter language (like R, Matlab, ...)\n",
        "  - C/C++, Java are compiled languages\n",
        "- (Very) popular for AI, ML, Bioinformatics, Data Analytics, ...\n",
        "- Easy to learn"
      ]
    },
    {
      "cell_type": "markdown",
      "metadata": {
        "id": "Cx3WFQbMRUkf",
        "colab_type": "text"
      },
      "source": [
        "---"
      ]
    },
    {
      "cell_type": "markdown",
      "metadata": {
        "id": "kjhgWEO3RUkg",
        "colab_type": "text"
      },
      "source": [
        "### Variables"
      ]
    },
    {
      "cell_type": "markdown",
      "metadata": {
        "id": "_JRBmAbZRUkg",
        "colab_type": "text"
      },
      "source": [
        "- Variables can be used __without specifying the size or type__ (unlike in Java or C)\n",
        "- Python is case-sensitive. "
      ]
    },
    {
      "cell_type": "markdown",
      "metadata": {
        "id": "OhR15ukRRUkh",
        "colab_type": "text"
      },
      "source": [
        "### Assignment"
      ]
    },
    {
      "cell_type": "code",
      "metadata": {
        "ExecuteTime": {
          "end_time": "2017-10-04T18:38:12.552928Z",
          "start_time": "2017-10-04T18:38:12.543725Z"
        },
        "id": "7ap3P2U-RUkh",
        "colab_type": "code",
        "colab": {},
        "outputId": "c0bcb193-55ba-4920-db1e-5c9b9a3ae16d"
      },
      "source": [
        "x = 3 # integer\n",
        "y = 3. # floating point number\n",
        "z = \"Hello!\" # strings\n",
        "Z = \"Wonderful!\" # another string, stored in a variable big z.\n",
        "print(x)\n",
        "print(y)\n",
        "print(z)\n",
        "print(Z)"
      ],
      "execution_count": 0,
      "outputs": [
        {
          "output_type": "stream",
          "text": [
            "3\n",
            "3.0\n",
            "Hello!\n",
            "Wonderful!\n"
          ],
          "name": "stdout"
        }
      ]
    },
    {
      "cell_type": "markdown",
      "metadata": {
        "id": "zo_K3V5eRUkl",
        "colab_type": "text"
      },
      "source": [
        "You can do operations on numeric values as well as strings."
      ]
    },
    {
      "cell_type": "code",
      "metadata": {
        "ExecuteTime": {
          "end_time": "2018-10-09T01:38:17.443096Z",
          "start_time": "2018-10-09T01:38:17.439036Z"
        },
        "id": "N5wF9abdRUkl",
        "colab_type": "code",
        "colab": {},
        "outputId": "4f4b2612-2914-45dc-ce6f-1546ff76a2d8"
      },
      "source": [
        "sum_ = x + y # int + float = float\n",
        "print(sum_)"
      ],
      "execution_count": 0,
      "outputs": [
        {
          "output_type": "stream",
          "text": [
            "6.0\n"
          ],
          "name": "stdout"
        }
      ]
    },
    {
      "cell_type": "code",
      "metadata": {
        "ExecuteTime": {
          "end_time": "2017-10-04T18:38:13.972732Z",
          "start_time": "2017-10-04T18:38:13.967236Z"
        },
        "id": "cyS1vPC7RUko",
        "colab_type": "code",
        "colab": {},
        "outputId": "0a19617e-b51f-4820-fd5e-ac9f35b5b3c7"
      },
      "source": [
        "v = \"World!\"\n",
        "sum_string = z + \" \" + v # concatenate strings\n",
        "print(sum_string)"
      ],
      "execution_count": 0,
      "outputs": [
        {
          "output_type": "stream",
          "text": [
            "Hello! World!\n"
          ],
          "name": "stdout"
        }
      ]
    },
    {
      "cell_type": "markdown",
      "metadata": {
        "id": "UAxIiVNPRUkr",
        "colab_type": "text"
      },
      "source": [
        "Print with formating with `%`"
      ]
    },
    {
      "cell_type": "code",
      "metadata": {
        "ExecuteTime": {
          "end_time": "2017-10-04T18:38:15.178277Z",
          "start_time": "2017-10-04T18:38:15.173368Z"
        },
        "id": "uiGLoE-eRUkr",
        "colab_type": "code",
        "colab": {},
        "outputId": "24def4a7-fe4b-4ca3-f6b0-4b4ad54670ba"
      },
      "source": [
        "print(\"The sum of x and y is %.2f\"%sum_) # %f for floating point number"
      ],
      "execution_count": 0,
      "outputs": [
        {
          "output_type": "stream",
          "text": [
            "The sum of x and y is 6.00\n"
          ],
          "name": "stdout"
        }
      ]
    },
    {
      "cell_type": "code",
      "metadata": {
        "ExecuteTime": {
          "end_time": "2017-10-04T18:38:15.472965Z",
          "start_time": "2017-10-04T18:38:15.467306Z"
        },
        "id": "KkLR7mNZRUkt",
        "colab_type": "code",
        "colab": {},
        "outputId": "dc13cf6e-35d7-427c-aa40-19ddd3dba2e1"
      },
      "source": [
        "print(\"The string `sum_string` is '%s'\"%sum_string) # %s for string"
      ],
      "execution_count": 0,
      "outputs": [
        {
          "output_type": "stream",
          "text": [
            "The string `sum_string` is 'Hello! World!'\n"
          ],
          "name": "stdout"
        }
      ]
    },
    {
      "cell_type": "markdown",
      "metadata": {
        "id": "t7YmMFr4RUkx",
        "colab_type": "text"
      },
      "source": [
        "#### Naming convention"
      ]
    },
    {
      "cell_type": "markdown",
      "metadata": {
        "id": "1Fs--00CRUkx",
        "colab_type": "text"
      },
      "source": [
        "There are two commonly used style in programming:\n",
        "\n",
        "1. __camelCase__\n",
        "2. __snake_case__ or __lower_case_with_underscore__\n",
        "\n",
        "Be consistent across one project."
      ]
    },
    {
      "cell_type": "markdown",
      "metadata": {
        "id": "l4VAx_ZeRUky",
        "colab_type": "text"
      },
      "source": [
        "All variable (function and class) names must start with a letter or underscore (\\_). You can include numbers."
      ]
    },
    {
      "cell_type": "code",
      "metadata": {
        "ExecuteTime": {
          "end_time": "2018-10-09T00:16:28.497486Z",
          "start_time": "2018-10-09T00:16:28.491966Z"
        },
        "id": "7H9ghacRRUky",
        "colab_type": "code",
        "colab": {},
        "outputId": "f18fa766-36e3-4b9f-c11b-c0a18f50792f"
      },
      "source": [
        "myStringHere = 'my string'\n",
        "myStringHere"
      ],
      "execution_count": 0,
      "outputs": [
        {
          "output_type": "execute_result",
          "data": {
            "text/plain": [
              "'my string'"
            ]
          },
          "metadata": {
            "tags": []
          },
          "execution_count": 6
        }
      ]
    },
    {
      "cell_type": "code",
      "metadata": {
        "ExecuteTime": {
          "end_time": "2018-10-09T00:16:28.879472Z",
          "start_time": "2018-10-09T00:16:28.875812Z"
        },
        "id": "TBdmX-qeRUk0",
        "colab_type": "code",
        "colab": {}
      },
      "source": [
        "x = 3 # valid\n",
        "x_3 = \"xyz\" # valid"
      ],
      "execution_count": 0,
      "outputs": []
    },
    {
      "cell_type": "code",
      "metadata": {
        "ExecuteTime": {
          "end_time": "2018-10-09T00:16:29.096887Z",
          "start_time": "2018-10-09T00:16:29.091476Z"
        },
        "id": "IntymsE8RUk2",
        "colab_type": "code",
        "colab": {},
        "outputId": "c944ae58-510a-4755-caf8-0197ad08f058"
      },
      "source": [
        "3_x = \"456\" # invalid. Numbers cannot be in the first position."
      ],
      "execution_count": 0,
      "outputs": [
        {
          "output_type": "error",
          "ename": "SyntaxError",
          "evalue": "invalid token (<ipython-input-8-520aa7218b05>, line 1)",
          "traceback": [
            "\u001b[0;36m  File \u001b[0;32m\"<ipython-input-8-520aa7218b05>\"\u001b[0;36m, line \u001b[0;32m1\u001b[0m\n\u001b[0;31m    3_x = \"456\" # invalid. Numbers cannot be in the first position.\u001b[0m\n\u001b[0m     ^\u001b[0m\n\u001b[0;31mSyntaxError\u001b[0m\u001b[0;31m:\u001b[0m invalid token\n"
          ]
        }
      ]
    },
    {
      "cell_type": "markdown",
      "metadata": {
        "id": "oAJlPjM-RUk4",
        "colab_type": "text"
      },
      "source": [
        "### Wildcard variable ( _ )\n",
        "'_' is a valid variable name in Python: usually reserved to store temporary values"
      ]
    },
    {
      "cell_type": "code",
      "metadata": {
        "id": "s5BODLzURUk4",
        "colab_type": "code",
        "colab": {},
        "outputId": "a6e62655-a51a-4423-c01a-6b5012033946"
      },
      "source": [
        "_ = 3\n",
        "print(_)"
      ],
      "execution_count": 0,
      "outputs": [
        {
          "output_type": "stream",
          "text": [
            "3\n"
          ],
          "name": "stdout"
        }
      ]
    },
    {
      "cell_type": "markdown",
      "metadata": {
        "id": "Ox9YGv2jRUk6",
        "colab_type": "text"
      },
      "source": [
        "###  Indexing"
      ]
    },
    {
      "cell_type": "markdown",
      "metadata": {
        "id": "GAGl5bt7RUk6",
        "colab_type": "text"
      },
      "source": [
        "To initialize a string variable, you can use either double or single quotes."
      ]
    },
    {
      "cell_type": "code",
      "metadata": {
        "ExecuteTime": {
          "end_time": "2018-10-09T00:16:32.520585Z",
          "start_time": "2018-10-09T00:16:32.516838Z"
        },
        "id": "bbrnnU7-RUk7",
        "colab_type": "code",
        "colab": {}
      },
      "source": [
        "store_name = \"ABCDE\""
      ],
      "execution_count": 0,
      "outputs": []
    },
    {
      "cell_type": "markdown",
      "metadata": {
        "id": "UxlZnvZMRUk8",
        "colab_type": "text"
      },
      "source": [
        "- A string is a sequence of characters\n",
        "- Indices and bracket notations can be used to access specific ranges of characters."
      ]
    },
    {
      "cell_type": "code",
      "metadata": {
        "ExecuteTime": {
          "end_time": "2018-10-09T00:16:32.814921Z",
          "start_time": "2018-10-09T00:16:32.811324Z"
        },
        "id": "wjcFeakURUk9",
        "colab_type": "code",
        "colab": {},
        "outputId": "b732454e-373e-47be-c9b7-33f3d29fdff9"
      },
      "source": [
        "name_13 = store_name[1:4] # [start, end), end is exclusive; Python index starts from 0 (NOT from 1)\n",
        "print(name_13)"
      ],
      "execution_count": 0,
      "outputs": [
        {
          "output_type": "stream",
          "text": [
            "BCD\n"
          ],
          "name": "stdout"
        }
      ]
    },
    {
      "cell_type": "code",
      "metadata": {
        "ExecuteTime": {
          "end_time": "2018-10-09T00:16:33.080003Z",
          "start_time": "2018-10-09T00:16:33.075926Z"
        },
        "id": "Z22MLJcDRUk-",
        "colab_type": "code",
        "colab": {},
        "outputId": "12a0635f-3810-4346-dd17-ac32880747da"
      },
      "source": [
        "last_letter = store_name[-1] # -1 means the last element\n",
        "print(last_letter)"
      ],
      "execution_count": 0,
      "outputs": [
        {
          "output_type": "stream",
          "text": [
            "E\n"
          ],
          "name": "stdout"
        }
      ]
    },
    {
      "cell_type": "code",
      "metadata": {
        "id": "qIUJplmRRUlA",
        "colab_type": "code",
        "colab": {},
        "outputId": "b28a6f78-c1bc-4f37-edd7-34366dc17a30"
      },
      "source": [
        "print(store_name[1:])"
      ],
      "execution_count": 0,
      "outputs": [
        {
          "output_type": "stream",
          "text": [
            "BCDE\n"
          ],
          "name": "stdout"
        }
      ]
    },
    {
      "cell_type": "code",
      "metadata": {
        "id": "hWXR-nxRRUlB",
        "colab_type": "code",
        "colab": {},
        "outputId": "b4c99993-b44f-4a3d-c152-2ec8ebcf2ab1"
      },
      "source": [
        "print(store_name[:3])"
      ],
      "execution_count": 0,
      "outputs": [
        {
          "output_type": "stream",
          "text": [
            "ABC\n"
          ],
          "name": "stdout"
        }
      ]
    },
    {
      "cell_type": "code",
      "metadata": {
        "id": "NE86d5AaRUlC",
        "colab_type": "code",
        "colab": {},
        "outputId": "812b0d68-7d03-4c33-e192-87ed3fd7d086"
      },
      "source": [
        "print(store_name[-4:-2])"
      ],
      "execution_count": 0,
      "outputs": [
        {
          "output_type": "stream",
          "text": [
            "BC\n"
          ],
          "name": "stdout"
        }
      ]
    },
    {
      "cell_type": "markdown",
      "metadata": {
        "id": "WwveIRxCRUlD",
        "colab_type": "text"
      },
      "source": [
        "---"
      ]
    },
    {
      "cell_type": "markdown",
      "metadata": {
        "id": "dIuXwhgYRUlD",
        "colab_type": "text"
      },
      "source": [
        "### Primitive (Basic) Data Types"
      ]
    },
    {
      "cell_type": "markdown",
      "metadata": {
        "id": "xHr3O577RUlD",
        "colab_type": "text"
      },
      "source": [
        "#### Numbers"
      ]
    },
    {
      "cell_type": "markdown",
      "metadata": {
        "id": "AKQHOLjkRUlE",
        "colab_type": "text"
      },
      "source": [
        "For numbers w/o fractional parts, we say they are ___integer___. In Python, they are called `int`"
      ]
    },
    {
      "cell_type": "code",
      "metadata": {
        "ExecuteTime": {
          "end_time": "2018-10-08T23:51:10.632494Z",
          "start_time": "2018-10-08T23:51:10.598421Z"
        },
        "id": "jiUNUD4ORUlE",
        "colab_type": "code",
        "colab": {},
        "outputId": "e697a713-657c-4b59-fa7f-c5053ca84eab"
      },
      "source": [
        "x = 3\n",
        "type(x)"
      ],
      "execution_count": 0,
      "outputs": [
        {
          "output_type": "execute_result",
          "data": {
            "text/plain": [
              "int"
            ]
          },
          "metadata": {
            "tags": []
          },
          "execution_count": 16
        }
      ]
    },
    {
      "cell_type": "markdown",
      "metadata": {
        "id": "cEgt8pHZRUlF",
        "colab_type": "text"
      },
      "source": [
        "For numbers w/ fractional parts, they are floating point numbers. They are named `float` in Python."
      ]
    },
    {
      "cell_type": "code",
      "metadata": {
        "ExecuteTime": {
          "end_time": "2018-10-08T23:51:54.013974Z",
          "start_time": "2018-10-08T23:51:54.008407Z"
        },
        "id": "iBpxepjKRUlG",
        "colab_type": "code",
        "colab": {},
        "outputId": "387fbfcc-4671-4e96-901e-6418c1a0e885"
      },
      "source": [
        "y = 3.0\n",
        "type(y)"
      ],
      "execution_count": 0,
      "outputs": [
        {
          "output_type": "execute_result",
          "data": {
            "text/plain": [
              "float"
            ]
          },
          "metadata": {
            "tags": []
          },
          "execution_count": 17
        }
      ]
    },
    {
      "cell_type": "markdown",
      "metadata": {
        "ExecuteTime": {
          "end_time": "2018-10-08T23:55:03.134594Z",
          "start_time": "2018-10-08T23:55:03.118103Z"
        },
        "id": "0VV-2C5vRUlH",
        "colab_type": "text"
      },
      "source": [
        "We can apply arithmetic to these numbers. However, one thing we need to be careful about is ___type conversion___. See the example below."
      ]
    },
    {
      "cell_type": "code",
      "metadata": {
        "ExecuteTime": {
          "end_time": "2018-10-08T23:55:31.855870Z",
          "start_time": "2018-10-08T23:55:31.847879Z"
        },
        "id": "KxWugDVsRUlH",
        "colab_type": "code",
        "colab": {},
        "outputId": "28e9c8c4-8781-402b-c1e8-8e5a1279484b"
      },
      "source": [
        "z = 2 * x\n",
        "type(z)"
      ],
      "execution_count": 0,
      "outputs": [
        {
          "output_type": "execute_result",
          "data": {
            "text/plain": [
              "int"
            ]
          },
          "metadata": {
            "tags": []
          },
          "execution_count": 18
        }
      ]
    },
    {
      "cell_type": "code",
      "metadata": {
        "ExecuteTime": {
          "end_time": "2018-10-08T23:55:36.207707Z",
          "start_time": "2018-10-08T23:55:36.202449Z"
        },
        "id": "LgM2HDkARUlI",
        "colab_type": "code",
        "colab": {},
        "outputId": "f7fdf386-729e-4494-b4b2-a41546fdb9dc"
      },
      "source": [
        "z = y + x\n",
        "type(z)"
      ],
      "execution_count": 0,
      "outputs": [
        {
          "output_type": "execute_result",
          "data": {
            "text/plain": [
              "float"
            ]
          },
          "metadata": {
            "tags": []
          },
          "execution_count": 19
        }
      ]
    },
    {
      "cell_type": "markdown",
      "metadata": {
        "id": "4YLU64l7RUlJ",
        "colab_type": "text"
      },
      "source": [
        "#### Text/Characters/Strings"
      ]
    },
    {
      "cell_type": "markdown",
      "metadata": {
        "id": "lkYrBCmrRUlJ",
        "colab_type": "text"
      },
      "source": [
        "In Python, we use `str` type for storing letters, words, and any other characters, as mentioned previously in Section 2.2"
      ]
    },
    {
      "cell_type": "code",
      "metadata": {
        "ExecuteTime": {
          "end_time": "2018-10-08T23:57:26.831211Z",
          "start_time": "2018-10-08T23:57:26.826020Z"
        },
        "id": "d0Z_TSwbRUlJ",
        "colab_type": "code",
        "colab": {},
        "outputId": "0d71900c-dc7c-4e12-8164-5e97e20d1e19"
      },
      "source": [
        "my_word = \"see you\"\n",
        "type(my_word)"
      ],
      "execution_count": 0,
      "outputs": [
        {
          "output_type": "execute_result",
          "data": {
            "text/plain": [
              "str"
            ]
          },
          "metadata": {
            "tags": []
          },
          "execution_count": 20
        }
      ]
    },
    {
      "cell_type": "markdown",
      "metadata": {
        "id": "GRpxsAgKRUlK",
        "colab_type": "text"
      },
      "source": [
        "Unlike numbers, `str` is an iterable object, meaning that we can iterate through each individual character:"
      ]
    },
    {
      "cell_type": "code",
      "metadata": {
        "ExecuteTime": {
          "end_time": "2018-10-08T23:58:44.058368Z",
          "start_time": "2018-10-08T23:58:44.052694Z"
        },
        "id": "llBvD0O6RUlK",
        "colab_type": "code",
        "colab": {},
        "outputId": "784cec00-a73e-481d-ebfb-9accd2d58c7e"
      },
      "source": [
        "my_word[0], my_word[2:6]"
      ],
      "execution_count": 0,
      "outputs": [
        {
          "output_type": "execute_result",
          "data": {
            "text/plain": [
              "('s', 'e yo')"
            ]
          },
          "metadata": {
            "tags": []
          },
          "execution_count": 21
        }
      ]
    },
    {
      "cell_type": "markdown",
      "metadata": {
        "id": "b2l1A83RRUlL",
        "colab_type": "text"
      },
      "source": [
        "We can also use `+` to _concatenate_ different strings "
      ]
    },
    {
      "cell_type": "code",
      "metadata": {
        "ExecuteTime": {
          "end_time": "2018-10-08T23:59:16.399980Z",
          "start_time": "2018-10-08T23:59:16.395030Z"
        },
        "id": "5be3XclFRUlL",
        "colab_type": "code",
        "colab": {},
        "outputId": "2441ec40-0d9a-4939-b83c-73f6c1cdd1b1"
      },
      "source": [
        "my_word + ' tomorrow'"
      ],
      "execution_count": 0,
      "outputs": [
        {
          "output_type": "execute_result",
          "data": {
            "text/plain": [
              "'see you tomorrow'"
            ]
          },
          "metadata": {
            "tags": []
          },
          "execution_count": 22
        }
      ]
    },
    {
      "cell_type": "markdown",
      "metadata": {
        "id": "oPeFFFLiRUlM",
        "colab_type": "text"
      },
      "source": [
        "#### Boolean"
      ]
    },
    {
      "cell_type": "markdown",
      "metadata": {
        "id": "ZZOlNjo1RUlM",
        "colab_type": "text"
      },
      "source": [
        "Boolean type comes in handy when we need to check conditions. For example:"
      ]
    },
    {
      "cell_type": "code",
      "metadata": {
        "ExecuteTime": {
          "end_time": "2018-10-09T00:00:33.751846Z",
          "start_time": "2018-10-09T00:00:33.746658Z"
        },
        "id": "NLkoF4hhRUlN",
        "colab_type": "code",
        "colab": {},
        "outputId": "4c3fd8aa-3de7-4bf4-bdac-52a069b9e003"
      },
      "source": [
        "my_error = 1.6\n",
        "compare_result = my_error < 0.1\n",
        "compare_result, type(compare_result)"
      ],
      "execution_count": 0,
      "outputs": [
        {
          "output_type": "execute_result",
          "data": {
            "text/plain": [
              "(False, bool)"
            ]
          },
          "metadata": {
            "tags": []
          },
          "execution_count": 23
        }
      ]
    },
    {
      "cell_type": "markdown",
      "metadata": {
        "id": "3zg0o5Z9RUlN",
        "colab_type": "text"
      },
      "source": [
        "There are two and only two valid Boolean values: `True` and `False`. We can also think of them as `1` and `0`, respectively."
      ]
    },
    {
      "cell_type": "code",
      "metadata": {
        "ExecuteTime": {
          "end_time": "2018-10-09T00:02:30.834630Z",
          "start_time": "2018-10-09T00:02:30.830339Z"
        },
        "id": "In9nFgSiRUlN",
        "colab_type": "code",
        "colab": {},
        "outputId": "3dd22234-5c25-4a4f-cffc-0df47b7e5d0e"
      },
      "source": [
        "my_error > 0"
      ],
      "execution_count": 0,
      "outputs": [
        {
          "output_type": "execute_result",
          "data": {
            "text/plain": [
              "True"
            ]
          },
          "metadata": {
            "tags": []
          },
          "execution_count": 24
        }
      ]
    },
    {
      "cell_type": "markdown",
      "metadata": {
        "id": "m8Ua-SGnRUlO",
        "colab_type": "text"
      },
      "source": [
        "When we use Boolean values for arithmetic operations, they will become `1` or `0` automatically"
      ]
    },
    {
      "cell_type": "code",
      "metadata": {
        "ExecuteTime": {
          "end_time": "2018-10-09T00:02:52.791120Z",
          "start_time": "2018-10-09T00:02:52.783315Z"
        },
        "id": "97hDhXENRUlO",
        "colab_type": "code",
        "colab": {},
        "outputId": "71ec9fa9-fb4e-4a27-ea80-7cb4add2f0f2"
      },
      "source": [
        "(my_error>0) + 2"
      ],
      "execution_count": 0,
      "outputs": [
        {
          "output_type": "execute_result",
          "data": {
            "text/plain": [
              "3"
            ]
          },
          "metadata": {
            "tags": []
          },
          "execution_count": 25
        }
      ]
    },
    {
      "cell_type": "markdown",
      "metadata": {
        "id": "2VFiebTaRUlP",
        "colab_type": "text"
      },
      "source": [
        "#### Type Conversion"
      ]
    },
    {
      "cell_type": "markdown",
      "metadata": {
        "id": "Mhh_8wQVRUlP",
        "colab_type": "text"
      },
      "source": [
        "Since variables in Python are dynamically typed, we need to be careful about type conversion."
      ]
    },
    {
      "cell_type": "markdown",
      "metadata": {
        "id": "eNLKJJuTRUlP",
        "colab_type": "text"
      },
      "source": [
        "When two variables share the same data type, there is not much to be worried about:"
      ]
    },
    {
      "cell_type": "code",
      "metadata": {
        "ExecuteTime": {
          "end_time": "2018-10-09T00:04:59.077234Z",
          "start_time": "2018-10-09T00:04:59.072252Z"
        },
        "id": "MVphYBy5RUlQ",
        "colab_type": "code",
        "colab": {},
        "outputId": "c20aedf2-a328-4e05-dfeb-0d4d83c66324"
      },
      "source": [
        "s1 = \"no problem. \"\n",
        "s2 = \"talk to you later\"\n",
        "s1 + s2"
      ],
      "execution_count": 0,
      "outputs": [
        {
          "output_type": "execute_result",
          "data": {
            "text/plain": [
              "'no problem. talk to you later'"
            ]
          },
          "metadata": {
            "tags": []
          },
          "execution_count": 26
        }
      ]
    },
    {
      "cell_type": "markdown",
      "metadata": {
        "id": "cZfv8f0HRUlQ",
        "colab_type": "text"
      },
      "source": [
        "But be careful when we are mixing variables up:"
      ]
    },
    {
      "cell_type": "code",
      "metadata": {
        "ExecuteTime": {
          "end_time": "2018-10-09T00:06:03.221806Z",
          "start_time": "2018-10-09T00:06:03.217855Z"
        },
        "id": "QZFr_XysRUlQ",
        "colab_type": "code",
        "colab": {}
      },
      "source": [
        "a = 3 # recall that this is an ____?\n",
        "b = 2.7 # how about this?\n",
        "c = a + b # what is the type of `c`?"
      ],
      "execution_count": 0,
      "outputs": []
    },
    {
      "cell_type": "markdown",
      "metadata": {
        "id": "SlSXPgzaRUlR",
        "colab_type": "text"
      },
      "source": [
        "To make things work between string and numbers, we can explicitly convert numbers into `str`:"
      ]
    },
    {
      "cell_type": "code",
      "metadata": {
        "ExecuteTime": {
          "end_time": "2018-10-09T00:07:59.974061Z",
          "start_time": "2018-10-09T00:07:59.964373Z"
        },
        "id": "BQ1jokBdRUlR",
        "colab_type": "code",
        "colab": {},
        "outputId": "71246c2e-5222-43ea-9697-b12206280a13"
      },
      "source": [
        "s1 + 3"
      ],
      "execution_count": 0,
      "outputs": [
        {
          "output_type": "error",
          "ename": "TypeError",
          "evalue": "must be str, not int",
          "traceback": [
            "\u001b[0;31m---------------------------------------------------------------------------\u001b[0m",
            "\u001b[0;31mTypeError\u001b[0m                                 Traceback (most recent call last)",
            "\u001b[0;32m<ipython-input-28-f90ed9df3b77>\u001b[0m in \u001b[0;36m<module>\u001b[0;34m()\u001b[0m\n\u001b[0;32m----> 1\u001b[0;31m \u001b[0ms1\u001b[0m \u001b[0;34m+\u001b[0m \u001b[0;36m3\u001b[0m\u001b[0;34m\u001b[0m\u001b[0;34m\u001b[0m\u001b[0m\n\u001b[0m",
            "\u001b[0;31mTypeError\u001b[0m: must be str, not int"
          ]
        }
      ]
    },
    {
      "cell_type": "code",
      "metadata": {
        "ExecuteTime": {
          "end_time": "2018-10-09T00:08:04.034457Z",
          "start_time": "2018-10-09T00:08:04.027842Z"
        },
        "id": "PZJEcEyKRUlS",
        "colab_type": "code",
        "colab": {},
        "outputId": "6afad077-8c32-44da-b231-269db0c404a4"
      },
      "source": [
        "s1 + str(3)"
      ],
      "execution_count": 0,
      "outputs": [
        {
          "output_type": "execute_result",
          "data": {
            "text/plain": [
              "'no problem. 3'"
            ]
          },
          "metadata": {
            "tags": []
          },
          "execution_count": 29
        }
      ]
    },
    {
      "cell_type": "markdown",
      "metadata": {
        "id": "9nby1vCxRUlT",
        "colab_type": "text"
      },
      "source": [
        "---"
      ]
    },
    {
      "cell_type": "markdown",
      "metadata": {
        "id": "5tyTpUqfRUlT",
        "colab_type": "text"
      },
      "source": [
        "### Data Structures"
      ]
    },
    {
      "cell_type": "markdown",
      "metadata": {
        "id": "FUccfV6DRUlT",
        "colab_type": "text"
      },
      "source": [
        "- A sort of _containers_ to store primitive type variables"
      ]
    },
    {
      "cell_type": "markdown",
      "metadata": {
        "id": "V64wlR6XRUlU",
        "colab_type": "text"
      },
      "source": [
        "#### List"
      ]
    },
    {
      "cell_type": "code",
      "metadata": {
        "id": "stmdHOrYRUlU",
        "colab_type": "code",
        "colab": {}
      },
      "source": [
        "a_list = [1, 2, 3] # commas to seperate elements"
      ],
      "execution_count": 0,
      "outputs": []
    },
    {
      "cell_type": "markdown",
      "metadata": {
        "id": "mDSfYqlBRUlV",
        "colab_type": "text"
      },
      "source": [
        "Initialize a list with brackets. You can store anything in a list, even if they are different types\n",
        "- note that we use [___string formatting___](https://pyformat.info/) to display strings\n",
        "- `%i` is a placeholder for `int`\n",
        "- `%s` for `str`"
      ]
    },
    {
      "cell_type": "code",
      "metadata": {
        "ExecuteTime": {
          "end_time": "2018-10-09T00:10:24.538230Z",
          "start_time": "2018-10-09T00:10:24.528793Z"
        },
        "id": "woRBqaxWRUlV",
        "colab_type": "code",
        "colab": {},
        "outputId": "bb5668ce-4a5a-485d-b096-a2848fe60c4a"
      },
      "source": [
        "print(\"Length of a_list is: %i\"%(len(a_list)))\n",
        "print(\"The 3rd element of a_list is: %s\" %(a_list[2])) # Remember Python starts with 0\n",
        "print(\"The last element of a_list is: %s\" %(a_list[-1])) # -1 means the end\n",
        "print(\"The sum of a_list is %.2f\"%(sum(a_list)))"
      ],
      "execution_count": 0,
      "outputs": [
        {
          "output_type": "stream",
          "text": [
            "Length of a_list is: 3\n",
            "The 3rd element of a_list is: 3\n",
            "The last element of a_list is: 3\n",
            "The sum of a_list is 6.00\n"
          ],
          "name": "stdout"
        }
      ]
    },
    {
      "cell_type": "markdown",
      "metadata": {
        "ExecuteTime": {
          "end_time": "2018-10-09T00:10:32.820098Z",
          "start_time": "2018-10-09T00:10:32.815341Z"
        },
        "id": "A92HbQakRUlW",
        "colab_type": "text"
      },
      "source": [
        "We can put different types in a list"
      ]
    },
    {
      "cell_type": "code",
      "metadata": {
        "ExecuteTime": {
          "end_time": "2018-10-09T00:10:35.486742Z",
          "start_time": "2018-10-09T00:10:35.479281Z"
        },
        "id": "UBOaEzaCRUlW",
        "colab_type": "code",
        "colab": {},
        "outputId": "e1014da2-0893-4cc0-c7ef-69cc68aa73e2"
      },
      "source": [
        "b_list = [20, True, \"good\", \"good\"] \n",
        "b_list"
      ],
      "execution_count": 0,
      "outputs": [
        {
          "output_type": "execute_result",
          "data": {
            "text/plain": [
              "[20, True, 'good', 'good']"
            ]
          },
          "metadata": {
            "tags": []
          },
          "execution_count": 32
        }
      ]
    },
    {
      "cell_type": "markdown",
      "metadata": {
        "id": "OnRJobR-RUlW",
        "colab_type": "text"
      },
      "source": [
        "Update a list: __pop__, __remove__, __append__, __extend__"
      ]
    },
    {
      "cell_type": "code",
      "metadata": {
        "ExecuteTime": {
          "end_time": "2018-10-09T00:10:41.107486Z",
          "start_time": "2018-10-09T00:10:41.102493Z"
        },
        "id": "H3SiNZs_RUlX",
        "colab_type": "code",
        "colab": {},
        "outputId": "2d2ff32d-31ca-476d-a134-4a2bbf7af962"
      },
      "source": [
        "print(a_list)\n",
        "print(\"Pop %i out of a_list\" % a_list.pop(1)) # pop the value of an index\n",
        "print(a_list)"
      ],
      "execution_count": 0,
      "outputs": [
        {
          "output_type": "stream",
          "text": [
            "[1, 2, 3]\n",
            "Pop 2 out of a_list\n",
            "[1, 3]\n"
          ],
          "name": "stdout"
        }
      ]
    },
    {
      "cell_type": "code",
      "metadata": {
        "ExecuteTime": {
          "end_time": "2018-10-09T00:10:43.906572Z",
          "start_time": "2018-10-09T00:10:43.899877Z"
        },
        "id": "Hgnkl7g5RUlX",
        "colab_type": "code",
        "colab": {},
        "outputId": "8892a9b9-c8ac-4c6e-b561-b4cb255611f1"
      },
      "source": [
        "print(\"Remove the string good from b_list:\")\n",
        "b_list.remove(\"good\") # remove a specific value (the first one in the list)\n",
        "print(b_list)"
      ],
      "execution_count": 0,
      "outputs": [
        {
          "output_type": "stream",
          "text": [
            "Remove the string good from b_list:\n",
            "[20, True, 'good']\n"
          ],
          "name": "stdout"
        }
      ]
    },
    {
      "cell_type": "code",
      "metadata": {
        "ExecuteTime": {
          "end_time": "2018-10-09T00:10:45.307563Z",
          "start_time": "2018-10-09T00:10:45.302951Z"
        },
        "id": "6SNu1d5HRUlY",
        "colab_type": "code",
        "colab": {},
        "outputId": "35d702a4-4b91-4cbc-f473-eec1d608f94d"
      },
      "source": [
        "a_list.append(10)\n",
        "print(\"After appending a new value, a_list is now: %s\" % (str(a_list)))"
      ],
      "execution_count": 0,
      "outputs": [
        {
          "output_type": "stream",
          "text": [
            "After appending a new value, a_list is now: [1, 3, 10]\n"
          ],
          "name": "stdout"
        }
      ]
    },
    {
      "cell_type": "markdown",
      "metadata": {
        "ExecuteTime": {
          "end_time": "2018-10-09T00:10:45.952388Z",
          "start_time": "2018-10-09T00:10:45.943473Z"
        },
        "id": "5hfFX7opRUlZ",
        "colab_type": "text"
      },
      "source": [
        "merge `a_list` and `b_list`: "
      ]
    },
    {
      "cell_type": "code",
      "metadata": {
        "ExecuteTime": {
          "end_time": "2018-10-09T00:12:02.249064Z",
          "start_time": "2018-10-09T00:12:02.241901Z"
        },
        "id": "BOjGBmNZRUlZ",
        "colab_type": "code",
        "colab": {},
        "outputId": "0eeb5655-e8f4-488c-cb27-b8600a206d35"
      },
      "source": [
        "a_list.extend(b_list)\n",
        "print(\"Merging a_list and b_list: %s\" % (str(a_list)))"
      ],
      "execution_count": 0,
      "outputs": [
        {
          "output_type": "stream",
          "text": [
            "Merging a_list and b_list: [1, 3, 10, 20, True, 'good']\n"
          ],
          "name": "stdout"
        }
      ]
    },
    {
      "cell_type": "markdown",
      "metadata": {
        "ExecuteTime": {
          "end_time": "2018-10-09T00:10:45.952388Z",
          "start_time": "2018-10-09T00:10:45.943473Z"
        },
        "id": "vUFNR2DBRUlZ",
        "colab_type": "text"
      },
      "source": [
        "We can also use `+` to concatenate two lists"
      ]
    },
    {
      "cell_type": "code",
      "metadata": {
        "ExecuteTime": {
          "end_time": "2018-10-09T00:12:03.301969Z",
          "start_time": "2018-10-09T00:12:03.295626Z"
        },
        "id": "9OjZe1pxRUla",
        "colab_type": "code",
        "colab": {},
        "outputId": "66329386-9e1a-4165-801f-5af1c657f8ff"
      },
      "source": [
        "a_list + b_list "
      ],
      "execution_count": 0,
      "outputs": [
        {
          "output_type": "execute_result",
          "data": {
            "text/plain": [
              "[1, 3, 10, 20, True, 'good', 20, True, 'good']"
            ]
          },
          "metadata": {
            "tags": []
          },
          "execution_count": 37
        }
      ]
    },
    {
      "cell_type": "markdown",
      "metadata": {
        "id": "oEEPupcwRUla",
        "colab_type": "text"
      },
      "source": [
        "Use `*` to repeat lists."
      ]
    },
    {
      "cell_type": "code",
      "metadata": {
        "id": "In_RyFuDRUla",
        "colab_type": "code",
        "colab": {},
        "outputId": "f28ca38a-0566-49a4-ed3c-9abfc709a362"
      },
      "source": [
        "[1,2]*3"
      ],
      "execution_count": 0,
      "outputs": [
        {
          "output_type": "execute_result",
          "data": {
            "text/plain": [
              "[1, 2, 1, 2, 1, 2]"
            ]
          },
          "metadata": {
            "tags": []
          },
          "execution_count": 38
        }
      ]
    },
    {
      "cell_type": "markdown",
      "metadata": {
        "id": "9fGLCFP8RUlb",
        "colab_type": "text"
      },
      "source": [
        "Use the `in` operator to check if something is inside a list."
      ]
    },
    {
      "cell_type": "code",
      "metadata": {
        "id": "oL-KoOPhRUlb",
        "colab_type": "code",
        "colab": {},
        "outputId": "02704bfa-8f91-4ffb-846a-9bcf5a039aac"
      },
      "source": [
        "2 in [1, 2, 3]"
      ],
      "execution_count": 0,
      "outputs": [
        {
          "output_type": "execute_result",
          "data": {
            "text/plain": [
              "True"
            ]
          },
          "metadata": {
            "tags": []
          },
          "execution_count": 39
        }
      ]
    },
    {
      "cell_type": "code",
      "metadata": {
        "id": "65CBz9tERUlc",
        "colab_type": "code",
        "colab": {},
        "outputId": "ea738d18-6fe9-477f-9212-baf50ca03a77"
      },
      "source": [
        "name = 'Korea University Hospital at Ansan'\n",
        "tokens = name.split(' ')\n",
        "print(tokens[0])\n",
        "print(tokens[-1])"
      ],
      "execution_count": 0,
      "outputs": [
        {
          "output_type": "stream",
          "text": [
            "Korea\n",
            "Ansan\n"
          ],
          "name": "stdout"
        }
      ]
    },
    {
      "cell_type": "markdown",
      "metadata": {
        "id": "E73SIUALRUld",
        "colab_type": "text"
      },
      "source": [
        "#### Tuple (A special case of list whose elements cannot be changed)"
      ]
    },
    {
      "cell_type": "code",
      "metadata": {
        "ExecuteTime": {
          "end_time": "2018-10-09T00:12:16.790034Z",
          "start_time": "2018-10-09T00:12:16.784149Z"
        },
        "id": "0Wm75SuPRUld",
        "colab_type": "code",
        "colab": {},
        "outputId": "43d6f26e-6216-4c7b-968c-3c10d8615ada"
      },
      "source": [
        "a_tuple = (1, 2, 3, 10)\n",
        "print(a_tuple)\n",
        "print(\"First element of a_tuple: %i\"%a_tuple[0])\n",
        "type(a_tuple)"
      ],
      "execution_count": 0,
      "outputs": [
        {
          "output_type": "stream",
          "text": [
            "(1, 2, 3, 10)\n",
            "First element of a_tuple: 1\n"
          ],
          "name": "stdout"
        },
        {
          "output_type": "execute_result",
          "data": {
            "text/plain": [
              "tuple"
            ]
          },
          "metadata": {
            "tags": []
          },
          "execution_count": 41
        }
      ]
    },
    {
      "cell_type": "markdown",
      "metadata": {
        "ExecuteTime": {
          "end_time": "2018-10-09T00:12:17.683012Z",
          "start_time": "2018-10-09T00:12:17.672651Z"
        },
        "id": "V7dhnlgkRUle",
        "colab_type": "text"
      },
      "source": [
        "You cannot change the values of a_tuple"
      ]
    },
    {
      "cell_type": "code",
      "metadata": {
        "ExecuteTime": {
          "end_time": "2018-10-09T00:12:24.288097Z",
          "start_time": "2018-10-09T00:12:24.278444Z"
        },
        "id": "5XFaO9BxRUle",
        "colab_type": "code",
        "colab": {},
        "outputId": "9a25806c-923d-4e24-bdc3-85e7496da562"
      },
      "source": [
        "a_tuple[0] = 5"
      ],
      "execution_count": 0,
      "outputs": [
        {
          "output_type": "error",
          "ename": "TypeError",
          "evalue": "'tuple' object does not support item assignment",
          "traceback": [
            "\u001b[0;31m---------------------------------------------------------------------------\u001b[0m",
            "\u001b[0;31mTypeError\u001b[0m                                 Traceback (most recent call last)",
            "\u001b[0;32m<ipython-input-42-0775dda10b17>\u001b[0m in \u001b[0;36m<module>\u001b[0;34m()\u001b[0m\n\u001b[0;32m----> 1\u001b[0;31m \u001b[0ma_tuple\u001b[0m\u001b[0;34m[\u001b[0m\u001b[0;36m0\u001b[0m\u001b[0;34m]\u001b[0m \u001b[0;34m=\u001b[0m \u001b[0;36m5\u001b[0m\u001b[0;34m\u001b[0m\u001b[0;34m\u001b[0m\u001b[0m\n\u001b[0m",
            "\u001b[0;31mTypeError\u001b[0m: 'tuple' object does not support item assignment"
          ]
        }
      ]
    },
    {
      "cell_type": "markdown",
      "metadata": {
        "id": "WP0xdb6aRUle",
        "colab_type": "text"
      },
      "source": [
        "In order to create a single value tuple, you need to add a ','"
      ]
    },
    {
      "cell_type": "code",
      "metadata": {
        "id": "o_Y9woduRUle",
        "colab_type": "code",
        "colab": {},
        "outputId": "199abcb2-bb92-4bad-9815-e3942df6a214"
      },
      "source": [
        "a_tuple = (1) # this would create a int type\n",
        "print(type(a_tuple))\n",
        "b_tuple = (1,) # this would create a tuple type, take note of the comma.\n",
        "print(type(b_tuple))"
      ],
      "execution_count": 0,
      "outputs": [
        {
          "output_type": "stream",
          "text": [
            "<class 'int'>\n",
            "<class 'tuple'>\n"
          ],
          "name": "stdout"
        }
      ]
    },
    {
      "cell_type": "markdown",
      "metadata": {
        "id": "ElaGZtA_RUlf",
        "colab_type": "text"
      },
      "source": [
        "#### Dictionary: key-value pairs"
      ]
    },
    {
      "cell_type": "markdown",
      "metadata": {
        "id": "oNE5S00-RUlf",
        "colab_type": "text"
      },
      "source": [
        "Initialize a dict by curly brackets `{}`"
      ]
    },
    {
      "cell_type": "code",
      "metadata": {
        "ExecuteTime": {
          "end_time": "2018-10-09T00:12:58.821876Z",
          "start_time": "2018-10-09T00:12:58.817697Z"
        },
        "id": "EZ_VPanlRUlf",
        "colab_type": "code",
        "colab": {},
        "outputId": "b70334cb-7555-4055-cf84-2217384be174"
      },
      "source": [
        "d = {} # empty dictionary\n",
        "d['Sangkyun Lee'] = \"sangkyun@korea.ac.kr\" # add a key-value \n",
        "d['Jaesung Kim'] = \"jkim@korea.ac.kr\"\n",
        "print(d)"
      ],
      "execution_count": 0,
      "outputs": [
        {
          "output_type": "stream",
          "text": [
            "{'Sangkyun Lee': 'sangkyun@korea.ac.kr', 'Jaesung Kim': 'jkim@korea.ac.kr'}\n"
          ],
          "name": "stdout"
        }
      ]
    },
    {
      "cell_type": "markdown",
      "metadata": {
        "id": "KqxWlOoMRUlg",
        "colab_type": "text"
      },
      "source": [
        "Iterate over all of the keys:"
      ]
    },
    {
      "cell_type": "code",
      "metadata": {
        "id": "cgVVYEgdRUlg",
        "colab_type": "code",
        "colab": {},
        "outputId": "c354ee55-4d03-4774-af85-8df644255f0f"
      },
      "source": [
        "for i in d:\n",
        "    print(i)"
      ],
      "execution_count": 0,
      "outputs": [
        {
          "output_type": "stream",
          "text": [
            "Sangkyun Lee\n",
            "Jaesung Kim\n"
          ],
          "name": "stdout"
        }
      ]
    },
    {
      "cell_type": "markdown",
      "metadata": {
        "id": "pdYZm6ByRUlh",
        "colab_type": "text"
      },
      "source": [
        "Iterate over all of the values:"
      ]
    },
    {
      "cell_type": "code",
      "metadata": {
        "id": "v1-iZ9G4RUlh",
        "colab_type": "code",
        "colab": {},
        "outputId": "2150359a-4a98-4006-de2f-8493aa069019"
      },
      "source": [
        "for i in d.values():\n",
        "    print(i)"
      ],
      "execution_count": 0,
      "outputs": [
        {
          "output_type": "stream",
          "text": [
            "sangkyun@korea.ac.kr\n",
            "jkim@korea.ac.kr\n"
          ],
          "name": "stdout"
        }
      ]
    },
    {
      "cell_type": "markdown",
      "metadata": {
        "id": "XAHCkwTVRUli",
        "colab_type": "text"
      },
      "source": [
        "Iterate over all of the items in the dictionary:"
      ]
    },
    {
      "cell_type": "code",
      "metadata": {
        "id": "5Ol98IDTRUli",
        "colab_type": "code",
        "colab": {},
        "outputId": "d00ce354-f6ff-4190-beb1-4af8bc3f3bda"
      },
      "source": [
        "for name, email in d.items():\n",
        "    print(name)\n",
        "    print(email)"
      ],
      "execution_count": 0,
      "outputs": [
        {
          "output_type": "stream",
          "text": [
            "Sangkyun Lee\n",
            "sangkyun@korea.ac.kr\n",
            "Jaesung Kim\n",
            "jkim@korea.ac.kr\n"
          ],
          "name": "stdout"
        }
      ]
    },
    {
      "cell_type": "markdown",
      "metadata": {
        "id": "boIUi3XSRUlj",
        "colab_type": "text"
      },
      "source": [
        "You can unpack a sequence into different variables:"
      ]
    },
    {
      "cell_type": "code",
      "metadata": {
        "id": "Dfuv_IIXRUlj",
        "colab_type": "code",
        "colab": {},
        "outputId": "7f1e9784-9164-4630-9b22-5be4bc00733f"
      },
      "source": [
        "x = ('Sangkyun', 'Lee', 'sangkyun@korea.ac.kr')\n",
        "fname, lname, email = x\n",
        "print(lname)\n",
        "print(email)"
      ],
      "execution_count": 0,
      "outputs": [
        {
          "output_type": "stream",
          "text": [
            "Lee\n",
            "sangkyun@korea.ac.kr\n"
          ],
          "name": "stdout"
        }
      ]
    },
    {
      "cell_type": "markdown",
      "metadata": {
        "id": "H1AGRrirRUlk",
        "colab_type": "text"
      },
      "source": [
        "String formatting"
      ]
    },
    {
      "cell_type": "code",
      "metadata": {
        "id": "hPX5QeiQRUlk",
        "colab_type": "code",
        "colab": {},
        "outputId": "682d9387-93a3-4489-c29b-8418865bb2b1"
      },
      "source": [
        "sales_record = {\n",
        "'price': 3.24,\n",
        "'num_items': 4,\n",
        "'person': 'Chris'}\n",
        "\n",
        "sales_statement = '{} bought {} item(s) at a price of {} each for a total of {}'\n",
        "\n",
        "print(sales_statement.format(sales_record['person'],\n",
        "                             sales_record['num_items'],\n",
        "                             sales_record['price'],\n",
        "                             sales_record['num_items']*sales_record['price']))"
      ],
      "execution_count": 0,
      "outputs": [
        {
          "output_type": "stream",
          "text": [
            "Chris bought 4 item(s) at a price of 3.24 each for a total of 12.96\n"
          ],
          "name": "stdout"
        }
      ]
    },
    {
      "cell_type": "markdown",
      "metadata": {
        "id": "6Az5JUN8RUlk",
        "colab_type": "text"
      },
      "source": [
        "---"
      ]
    },
    {
      "cell_type": "markdown",
      "metadata": {
        "id": "C1X60pjwRUlk",
        "colab_type": "text"
      },
      "source": [
        "### Control Logics\n",
        "\n",
        "In the following examples, we show examples of comparison, `if-else` loop, `for` loop, and `while` loop."
      ]
    },
    {
      "cell_type": "markdown",
      "metadata": {
        "id": "XJhBG9eJRUll",
        "colab_type": "text"
      },
      "source": [
        "#### Comparison"
      ]
    },
    {
      "cell_type": "markdown",
      "metadata": {
        "id": "V5JGkub9RUll",
        "colab_type": "text"
      },
      "source": [
        "Python syntax for comparison is the same as our hand-written convention: \n",
        "\n",
        "1. Larger (or equal): `>` (`>=`)\n",
        "2. Smaller (or equal): `<` (`<=`)\n",
        "3. Equal to: `==` (__Notie here that there are double equal signs__)\n",
        "4. Not equal to: `!=`"
      ]
    },
    {
      "cell_type": "code",
      "metadata": {
        "ExecuteTime": {
          "end_time": "2018-10-09T00:16:20.683160Z",
          "start_time": "2018-10-09T00:16:20.676171Z"
        },
        "id": "nk3i1C1iRUll",
        "colab_type": "code",
        "colab": {},
        "outputId": "02c80aaa-83dd-4c0f-9966-da250ebec4d3"
      },
      "source": [
        "3 == 5 "
      ],
      "execution_count": 0,
      "outputs": [
        {
          "output_type": "execute_result",
          "data": {
            "text/plain": [
              "False"
            ]
          },
          "metadata": {
            "tags": []
          },
          "execution_count": 50
        }
      ]
    },
    {
      "cell_type": "code",
      "metadata": {
        "ExecuteTime": {
          "end_time": "2018-10-09T00:16:21.107023Z",
          "start_time": "2018-10-09T00:16:21.102607Z"
        },
        "id": "V8ydgEsARUlm",
        "colab_type": "code",
        "colab": {},
        "outputId": "8e7feb53-4dfc-4b97-cb9d-42191bc1c314"
      },
      "source": [
        "72 >= 2"
      ],
      "execution_count": 0,
      "outputs": [
        {
          "output_type": "execute_result",
          "data": {
            "text/plain": [
              "True"
            ]
          },
          "metadata": {
            "tags": []
          },
          "execution_count": 51
        }
      ]
    },
    {
      "cell_type": "code",
      "metadata": {
        "ExecuteTime": {
          "end_time": "2018-10-09T00:16:49.169393Z",
          "start_time": "2018-10-09T00:16:49.164386Z"
        },
        "id": "etjZ9mg7RUlm",
        "colab_type": "code",
        "colab": {},
        "outputId": "dcf80022-442f-4c09-c02f-6370af0ab104"
      },
      "source": [
        "store_name"
      ],
      "execution_count": 0,
      "outputs": [
        {
          "output_type": "execute_result",
          "data": {
            "text/plain": [
              "'ABCDE'"
            ]
          },
          "metadata": {
            "tags": []
          },
          "execution_count": 52
        }
      ]
    },
    {
      "cell_type": "code",
      "metadata": {
        "ExecuteTime": {
          "end_time": "2018-10-09T00:16:49.460268Z",
          "start_time": "2018-10-09T00:16:49.453590Z"
        },
        "id": "RnDC8xleRUln",
        "colab_type": "code",
        "colab": {},
        "outputId": "0e485dc2-00dc-452f-d864-26b0858fc786"
      },
      "source": [
        "store_name == \"HyVee\" # Will return a boolean value True or False"
      ],
      "execution_count": 0,
      "outputs": [
        {
          "output_type": "execute_result",
          "data": {
            "text/plain": [
              "False"
            ]
          },
          "metadata": {
            "tags": []
          },
          "execution_count": 53
        }
      ]
    },
    {
      "cell_type": "markdown",
      "metadata": {
        "id": "1LxP4NlKRUlo",
        "colab_type": "text"
      },
      "source": [
        "IMPORTANT: It is worth noting that comparisons between floating point numbers are tricky."
      ]
    },
    {
      "cell_type": "code",
      "metadata": {
        "ExecuteTime": {
          "end_time": "2018-10-09T00:17:16.577984Z",
          "start_time": "2018-10-09T00:17:16.571556Z"
        },
        "id": "PhS5dJWBRUlo",
        "colab_type": "code",
        "colab": {},
        "outputId": "933434bd-9da5-4d01-944f-26d3e394e0c7"
      },
      "source": [
        "print(2.2 * 3.0)\n",
        "2.2 * 3.0 == 6.6"
      ],
      "execution_count": 0,
      "outputs": [
        {
          "output_type": "stream",
          "text": [
            "6.6000000000000005\n"
          ],
          "name": "stdout"
        },
        {
          "output_type": "execute_result",
          "data": {
            "text/plain": [
              "False"
            ]
          },
          "metadata": {
            "tags": []
          },
          "execution_count": 54
        }
      ]
    },
    {
      "cell_type": "code",
      "metadata": {
        "ExecuteTime": {
          "end_time": "2018-10-09T00:17:16.777940Z",
          "start_time": "2018-10-09T00:17:16.771796Z"
        },
        "id": "IvhZ7hELRUlo",
        "colab_type": "code",
        "colab": {},
        "outputId": "6d0a3fd4-c389-4f07-cd40-f0055c99df9c"
      },
      "source": [
        "3.3 * 2.0 == 6.6"
      ],
      "execution_count": 0,
      "outputs": [
        {
          "output_type": "execute_result",
          "data": {
            "text/plain": [
              "True"
            ]
          },
          "metadata": {
            "tags": []
          },
          "execution_count": 55
        }
      ]
    },
    {
      "cell_type": "markdown",
      "metadata": {
        "id": "khUAAff6RUlp",
        "colab_type": "text"
      },
      "source": [
        "#### If-Else"
      ]
    },
    {
      "cell_type": "code",
      "metadata": {
        "ExecuteTime": {
          "end_time": "2018-10-09T01:38:46.027739Z",
          "start_time": "2018-10-09T01:38:46.023274Z"
        },
        "id": "eBXFO4yERUlp",
        "colab_type": "code",
        "colab": {}
      },
      "source": [
        "sum_ = -1"
      ],
      "execution_count": 0,
      "outputs": []
    },
    {
      "cell_type": "code",
      "metadata": {
        "ExecuteTime": {
          "end_time": "2018-10-09T01:38:47.709640Z",
          "start_time": "2018-10-09T01:38:47.704307Z"
        },
        "id": "6Ndvjy1rRUlq",
        "colab_type": "code",
        "colab": {},
        "outputId": "32d81b88-1109-48d1-c211-4881879e7eb0"
      },
      "source": [
        "if sum_ == 0:\n",
        "    print(\"sum_ is 0\")\n",
        "elif sum_ < 0:\n",
        "    print(\"sum_ is less than 0\")\n",
        "else:\n",
        "    print(\"sum_ is above 0 and its value is \" + str(sum_)) # Cast sum_ into string type."
      ],
      "execution_count": 0,
      "outputs": [
        {
          "output_type": "stream",
          "text": [
            "sum_ is less than 0\n"
          ],
          "name": "stdout"
        }
      ]
    },
    {
      "cell_type": "markdown",
      "metadata": {
        "id": "d9I6GjmRRUlq",
        "colab_type": "text"
      },
      "source": [
        "Note that you do not have to use `if-else` or `if-elif-...-else`. You can use `if` without other clauses following that."
      ]
    },
    {
      "cell_type": "code",
      "metadata": {
        "ExecuteTime": {
          "end_time": "2018-10-09T01:38:49.218876Z",
          "start_time": "2018-10-09T01:38:49.214871Z"
        },
        "id": "c8_ZQOZ5RUlq",
        "colab_type": "code",
        "colab": {}
      },
      "source": [
        "if sum_ > 5:\n",
        "    print('sum_ is above 5')"
      ],
      "execution_count": 0,
      "outputs": []
    },
    {
      "cell_type": "markdown",
      "metadata": {
        "id": "nwEEflp4RUlr",
        "colab_type": "text"
      },
      "source": [
        "Comparing strings are similar"
      ]
    },
    {
      "cell_type": "code",
      "metadata": {
        "ExecuteTime": {
          "end_time": "2018-10-09T01:38:50.755605Z",
          "start_time": "2018-10-09T01:38:50.751523Z"
        },
        "id": "30d0KY9DRUlr",
        "colab_type": "code",
        "colab": {}
      },
      "source": [
        "store_name = 'Walmart'"
      ],
      "execution_count": 0,
      "outputs": []
    },
    {
      "cell_type": "code",
      "metadata": {
        "ExecuteTime": {
          "end_time": "2018-10-09T01:38:57.568568Z",
          "start_time": "2018-10-09T01:38:57.563726Z"
        },
        "id": "nOUj3_5cRUls",
        "colab_type": "code",
        "colab": {},
        "outputId": "a0168978-efa7-4a1c-aba4-11e94e082799"
      },
      "source": [
        "if 'Wal' in store_name:\n",
        "    print(\"The store is likely to be the Walmart.\")\n",
        "else:\n",
        "    print(\"The store is not likely to be the Walmart.\")"
      ],
      "execution_count": 0,
      "outputs": [
        {
          "output_type": "stream",
          "text": [
            "The store is likely to be the Walmart.\n"
          ],
          "name": "stdout"
        }
      ]
    },
    {
      "cell_type": "markdown",
      "metadata": {
        "id": "dPnO_dPWRUls",
        "colab_type": "text"
      },
      "source": [
        "#### For loop: Iterating thru a sequence"
      ]
    },
    {
      "cell_type": "code",
      "metadata": {
        "ExecuteTime": {
          "end_time": "2018-10-09T01:39:07.309307Z",
          "start_time": "2018-10-09T01:39:07.305696Z"
        },
        "id": "bb7ot3WMRUlt",
        "colab_type": "code",
        "colab": {},
        "outputId": "2fc41c25-0139-4a85-cff4-c2edb8afedbb"
      },
      "source": [
        "for letter in store_name:\n",
        "    print(letter)"
      ],
      "execution_count": 0,
      "outputs": [
        {
          "output_type": "stream",
          "text": [
            "W\n",
            "a\n",
            "l\n",
            "m\n",
            "a\n",
            "r\n",
            "t\n"
          ],
          "name": "stdout"
        }
      ]
    },
    {
      "cell_type": "markdown",
      "metadata": {
        "ExecuteTime": {
          "end_time": "2017-10-04T18:38:51.792543Z",
          "start_time": "2017-10-04T18:38:51.786228Z"
        },
        "id": "APQ6vkAIRUlt",
        "colab_type": "text"
      },
      "source": [
        "`range()` is a function to create interger sequences:\n",
        "- `range(0,1000)`, `range(1000)` : 0 ~ 999"
      ]
    },
    {
      "cell_type": "code",
      "metadata": {
        "id": "ZDLSizaFRUlt",
        "colab_type": "code",
        "colab": {},
        "outputId": "cc857c78-abac-4bc9-b99c-fa3b530d287c"
      },
      "source": [
        "range(1,10)"
      ],
      "execution_count": 0,
      "outputs": [
        {
          "output_type": "execute_result",
          "data": {
            "text/plain": [
              "range(1, 10)"
            ]
          },
          "metadata": {
            "tags": []
          },
          "execution_count": 62
        }
      ]
    },
    {
      "cell_type": "markdown",
      "metadata": {
        "id": "rbvsEclFRUlu",
        "colab_type": "text"
      },
      "source": [
        "Range to list"
      ]
    },
    {
      "cell_type": "code",
      "metadata": {
        "id": "YMeEybGORUlu",
        "colab_type": "code",
        "colab": {},
        "outputId": "349b16af-f487-4467-fae5-62e11241dcdd"
      },
      "source": [
        "list(range(1,10))"
      ],
      "execution_count": 0,
      "outputs": [
        {
          "output_type": "execute_result",
          "data": {
            "text/plain": [
              "[1, 2, 3, 4, 5, 6, 7, 8, 9]"
            ]
          },
          "metadata": {
            "tags": []
          },
          "execution_count": 63
        }
      ]
    },
    {
      "cell_type": "code",
      "metadata": {
        "ExecuteTime": {
          "end_time": "2018-10-09T01:41:05.935416Z",
          "start_time": "2018-10-09T01:41:05.930030Z"
        },
        "id": "EErSc5hrRUlv",
        "colab_type": "code",
        "colab": {},
        "outputId": "bc1c8656-79a5-48e0-e17a-f04c15b2fd9d"
      },
      "source": [
        "for index in range(len(store_name)): # length of a sequence\n",
        "    print(\"The %ith letter in store_name is: %s\" % (index, store_name[index]))"
      ],
      "execution_count": 0,
      "outputs": [
        {
          "output_type": "stream",
          "text": [
            "The 0th letter in store_name is: W\n",
            "The 1th letter in store_name is: a\n",
            "The 2th letter in store_name is: l\n",
            "The 3th letter in store_name is: m\n",
            "The 4th letter in store_name is: a\n",
            "The 5th letter in store_name is: r\n",
            "The 6th letter in store_name is: t\n"
          ],
          "name": "stdout"
        }
      ]
    },
    {
      "cell_type": "markdown",
      "metadata": {
        "id": "6glA1DBHRUlv",
        "colab_type": "text"
      },
      "source": [
        "#### While loop: Keep doing until condition no longer holds."
      ]
    },
    {
      "cell_type": "markdown",
      "metadata": {
        "id": "VCzw0L5IRUlv",
        "colab_type": "text"
      },
      "source": [
        "Use `for` when you know __the exact number of iterations__; use `while` when you __do not (e.g., checking convergence)__."
      ]
    },
    {
      "cell_type": "code",
      "metadata": {
        "ExecuteTime": {
          "end_time": "2018-10-09T01:41:12.053207Z",
          "start_time": "2018-10-09T01:41:12.049347Z"
        },
        "id": "3l0zpY7xRUlv",
        "colab_type": "code",
        "colab": {}
      },
      "source": [
        "x = 1"
      ],
      "execution_count": 0,
      "outputs": []
    },
    {
      "cell_type": "code",
      "metadata": {
        "ExecuteTime": {
          "end_time": "2018-10-09T01:41:12.294825Z",
          "start_time": "2018-10-09T01:41:12.290846Z"
        },
        "id": "jCZBUUdqRUlw",
        "colab_type": "code",
        "colab": {},
        "outputId": "cd966f52-b7de-4df5-e5b2-795560feca0e"
      },
      "source": [
        "while x < 10:\n",
        "    print(x)\n",
        "    x += 1  # same as x = x+1\n",
        "\n",
        "print(0)"
      ],
      "execution_count": 0,
      "outputs": [
        {
          "output_type": "stream",
          "text": [
            "1\n",
            "2\n",
            "3\n",
            "4\n",
            "5\n",
            "6\n",
            "7\n",
            "8\n",
            "9\n",
            "0\n"
          ],
          "name": "stdout"
        }
      ]
    },
    {
      "cell_type": "markdown",
      "metadata": {
        "id": "tGbmZQx0RUlx",
        "colab_type": "text"
      },
      "source": [
        "#### `break` and `continue`"
      ]
    },
    {
      "cell_type": "markdown",
      "metadata": {
        "id": "LJeTZkaNRUlx",
        "colab_type": "text"
      },
      "source": [
        "`break` means get out of the loop immediately. Any code after the `break` will NOT be executed."
      ]
    },
    {
      "cell_type": "code",
      "metadata": {
        "ExecuteTime": {
          "end_time": "2018-10-09T01:41:21.493159Z",
          "start_time": "2018-10-09T01:41:21.489747Z"
        },
        "id": "Q0F7cYVDRUlx",
        "colab_type": "code",
        "colab": {}
      },
      "source": [
        "store_name = 'Walmart'"
      ],
      "execution_count": 0,
      "outputs": []
    },
    {
      "cell_type": "code",
      "metadata": {
        "ExecuteTime": {
          "end_time": "2018-10-09T01:41:22.084338Z",
          "start_time": "2018-10-09T01:41:22.076857Z"
        },
        "id": "Nj9RKMENRUly",
        "colab_type": "code",
        "colab": {},
        "outputId": "a290a5d6-0047-4423-d34f-c2c02eb521fa"
      },
      "source": [
        "index = 0\n",
        "while True:\n",
        "    print(store_name[index])\n",
        "    index += 1 \n",
        "    if store_name[index] == \"a\":\n",
        "        print(\"We've found 'a'\")\n",
        "        break \n",
        "        print(\"Hello!\") # This will NOT be run"
      ],
      "execution_count": 0,
      "outputs": [
        {
          "output_type": "stream",
          "text": [
            "W\n",
            "We've found 'a'\n"
          ],
          "name": "stdout"
        }
      ]
    },
    {
      "cell_type": "markdown",
      "metadata": {
        "id": "toLCqcWiRUlz",
        "colab_type": "text"
      },
      "source": [
        "`continue` means get to the next iteration of loop. It will __break__ the current iteration and __continue__ to the next."
      ]
    },
    {
      "cell_type": "code",
      "metadata": {
        "ExecuteTime": {
          "end_time": "2018-10-09T01:41:23.822603Z",
          "start_time": "2018-10-09T01:41:23.818257Z"
        },
        "id": "6Shi9MdnRUlz",
        "colab_type": "code",
        "colab": {},
        "outputId": "330b5b33-3147-481b-fc89-c9a1dbd2bccf"
      },
      "source": [
        "for letter in store_name:\n",
        "    if letter == \"a\":\n",
        "        continue\n",
        "    else:\n",
        "        print(letter)"
      ],
      "execution_count": 0,
      "outputs": [
        {
          "output_type": "stream",
          "text": [
            "W\n",
            "l\n",
            "m\n",
            "r\n",
            "t\n"
          ],
          "name": "stdout"
        }
      ]
    }
  ]
}